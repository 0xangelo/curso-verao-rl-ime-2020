{
 "cells": [
  {
   "cell_type": "markdown",
   "metadata": {},
   "source": [
    "# Aula 3 - Parte Prática - Redução de Variância e Função Valor"
   ]
  },
  {
   "cell_type": "markdown",
   "metadata": {},
   "source": [
    "## Introdução\n",
    "\n",
    "Nesse terceiro notebook vamos aprender ...\n",
    "\n",
    "### Objetivos:\n",
    "\n",
    "- "
   ]
  },
  {
   "cell_type": "markdown",
   "metadata": {},
   "source": [
    "### Imports\n",
    "\n",
    "> **Atenção:** não se esqueça de executar todos os `imports` necessários antes prosseguir com o tutorial."
   ]
  },
  {
   "cell_type": "code",
   "execution_count": null,
   "metadata": {},
   "outputs": [],
   "source": [
    "import gym\n",
    "import numpy as np\n",
    "import tensorflow as tf\n",
    "import tensorflow_probability as tfp\n",
    "\n",
    "from utils.agent import RLAgent\n",
    "from utils.memory import OnPolicyReplay\n",
    "from utils.networks import build_discrete_policy, build_continuous_policy, build_value_network\n",
    "from utils.runner import train, evaluate\n",
    "from utils.viz import plot_returns, plot_action_distribution\n",
    "\n",
    "\n",
    "tf.get_logger().setLevel('ERROR') # ignore TensorFlow warnings"
   ]
  },
  {
   "cell_type": "markdown",
   "metadata": {},
   "source": [
    "## 0. Configurações "
   ]
  },
  {
   "cell_type": "code",
   "execution_count": null,
   "metadata": {},
   "outputs": [],
   "source": [
    "# CartPole-v0, CartPole-v1\n",
    "env = gym.make(\"CartPole-v0\")\n",
    "print(env.spec.reward_threshold)"
   ]
  },
  {
   "cell_type": "code",
   "execution_count": null,
   "metadata": {},
   "outputs": [],
   "source": [
    "config = {\n",
    "    # policy network\n",
    "    \"hidden_layers\": [64, 64],\n",
    "    \"activation\": \"relu\",\n",
    "\n",
    "    # optimization\n",
    "    \"optimizer\": \"adam\",\n",
    "    \"learning_rate\": 1e-3,\n",
    "\n",
    "    # training\n",
    "    \"train_batch_size\": 3000,\n",
    "}"
   ]
  },
  {
   "cell_type": "markdown",
   "metadata": {},
   "source": [
    "## 1. REINFORCE (Vanilla Policy Gradients) "
   ]
  },
  {
   "cell_type": "code",
   "execution_count": null,
   "metadata": {},
   "outputs": [],
   "source": [
    "class REINFORCE(RLAgent):\n",
    "    \n",
    "    def __init__(self, obs_space, action_space, config, postprocessing=None):\n",
    "        super(REINFORCE, self).__init__(obs_space, action_space, config)\n",
    "        \n",
    "        self.memory = OnPolicyReplay()\n",
    "        self.policy = build_discrete_policy(self.obs_space, self.action_space, config[\"hidden_layers\"], config[\"activation\"])\n",
    "        self.optimizer = tf.keras.optimizers.Adam(learning_rate=config[\"learning_rate\"])\n",
    "        \n",
    "        self.postprocessing = postprocessing\n",
    "        if postprocessing is None:\n",
    "            self.postprocessing = np.sum\n",
    "\n",
    "    def act(self, obs):\n",
    "        return self._act(obs).numpy()\n",
    "    \n",
    "    @tf.function\n",
    "    def _act(self, obs):\n",
    "        action_dist = self.policy(obs[None,:])\n",
    "        return action_dist.sample()[0]\n",
    "\n",
    "    def observe(self, obs, action, reward, next_obs, done):\n",
    "        self.memory.update(obs, action, reward, next_obs, done)\n",
    "\n",
    "    def learn(self):\n",
    "        if self.memory.batch_size < self.config[\"train_batch_size\"]:\n",
    "            return\n",
    "        \n",
    "        batch = self.memory.sample()\n",
    "\n",
    "        with tf.GradientTape() as tape:\n",
    "            loss = self._loss_pg_fn(batch)\n",
    "            gradients = tape.gradient(loss, self.policy.trainable_weights)\n",
    "\n",
    "        self.optimizer.apply_gradients(zip(gradients, self.policy.trainable_weights))\n",
    "      \n",
    "        return loss\n",
    "\n",
    "    def _loss_pg_fn(self, batch):\n",
    "        states, actions, rewards = batch[\"states\"], batch[\"actions\"], batch[\"rewards\"]\n",
    "        \n",
    "        n_episodes = len(rewards)\n",
    "\n",
    "        loss = 0.0\n",
    "        for episode in range(n_episodes):\n",
    "            action_dist = self.policy(states[episode])\n",
    "            log_prob = action_dist.log_prob(actions[episode])\n",
    "            G = self.postprocessing(rewards[episode])\n",
    "            loss += - tf.reduce_sum(log_prob * G)\n",
    "\n",
    "        loss /= n_episodes\n",
    "            \n",
    "        return loss"
   ]
  },
  {
   "cell_type": "code",
   "execution_count": null,
   "metadata": {},
   "outputs": [],
   "source": [
    "agent = REINFORCE(env.observation_space, env.action_space, config)"
   ]
  },
  {
   "cell_type": "code",
   "execution_count": null,
   "metadata": {},
   "outputs": [],
   "source": [
    "total_timesteps = 1_000_000\n",
    "timesteps, total_rewards, avg_total_rewards = train(agent, env, total_timesteps)"
   ]
  },
  {
   "cell_type": "code",
   "execution_count": null,
   "metadata": {},
   "outputs": [],
   "source": [
    "plot_returns(timesteps, total_rewards, avg_total_rewards)"
   ]
  },
  {
   "cell_type": "markdown",
   "metadata": {},
   "source": [
    "## 2. Policy Gradients: ignorando recompensas passadas"
   ]
  },
  {
   "cell_type": "markdown",
   "metadata": {},
   "source": [
    "$$\n",
    "\\nabla_\\theta J(\\theta) = \\mathbb{E}_{\\tau \\sim \\pi_\\theta} \\left [ \\sum_{t=0}^T \\nabla_\\theta \\log \\pi_\\theta(\\mathbf{a}_t|\\mathbf{s}_t) \\hat{R}_t \\right ]\n",
    "$$\n",
    "\n",
    "$$\n",
    "\\hat{R}_t = \\sum_{t'=t}^T r_{t'}\n",
    "$$\n"
   ]
  },
  {
   "cell_type": "markdown",
   "metadata": {},
   "source": [
    "### 2.1 Reward-to-Go "
   ]
  },
  {
   "cell_type": "code",
   "execution_count": null,
   "metadata": {},
   "outputs": [],
   "source": [
    "def compute_reward_to_go(rewards):\n",
    "    returns = []\n",
    "    total_reward = 0.0\n",
    "\n",
    "    for i in range(len(rewards) - 1, -1, -1):\n",
    "        reward = rewards[i]\n",
    "        total_reward += reward\n",
    "        returns.append(total_reward)\n",
    "\n",
    "    returns = returns[::-1]\n",
    "\n",
    "    return np.array(returns)\n"
   ]
  },
  {
   "cell_type": "code",
   "execution_count": null,
   "metadata": {},
   "outputs": [],
   "source": [
    "episode_length = 20\n",
    "rewards = np.random.uniform(size=(episode_length,))\n",
    "\n",
    "returns = compute_reward_to_go(rewards)\n",
    "\n",
    "assert len(returns) == episode_length\n",
    "assert np.allclose(np.cumsum(rewards[::-1])[::-1], returns)"
   ]
  },
  {
   "cell_type": "markdown",
   "metadata": {},
   "source": [
    "### 2.2 REINFORCE + Reward-to-Go"
   ]
  },
  {
   "cell_type": "code",
   "execution_count": null,
   "metadata": {},
   "outputs": [],
   "source": [
    "agent = REINFORCE(env.observation_space, env.action_space, config=config, postprocessing=compute_reward_to_go)"
   ]
  },
  {
   "cell_type": "code",
   "execution_count": null,
   "metadata": {},
   "outputs": [],
   "source": [
    "total_timesteps = 1_000_000\n",
    "timesteps, total_rewards, avg_total_rewards = train(agent, env, total_timesteps)"
   ]
  },
  {
   "cell_type": "code",
   "execution_count": null,
   "metadata": {},
   "outputs": [],
   "source": [
    "plot_returns(timesteps, total_rewards, avg_total_rewards)"
   ]
  },
  {
   "cell_type": "code",
   "execution_count": null,
   "metadata": {},
   "outputs": [],
   "source": [
    "# n_episodes = 5\n",
    "# _ = evaluate(agent, env, n_episodes, render=True)"
   ]
  },
  {
   "cell_type": "markdown",
   "metadata": {},
   "source": [
    "## 3. Policy Gradients: adicionando referências para os retornos (baseline)"
   ]
  },
  {
   "cell_type": "markdown",
   "metadata": {},
   "source": [
    "###  3.1 Normalização dos *reward-to-go*"
   ]
  },
  {
   "cell_type": "code",
   "execution_count": null,
   "metadata": {},
   "outputs": [],
   "source": [
    "def compute_normalized_reward_to_go(rewards):\n",
    "    reward_to_go = compute_reward_to_go(rewards)\n",
    "    mean, std = np.mean(reward_to_go), np.std(reward_to_go)\n",
    "    reward_to_go = (reward_to_go - mean) / (std if std > 0.0 else 1.0)\n",
    "    return reward_to_go\n"
   ]
  },
  {
   "cell_type": "code",
   "execution_count": null,
   "metadata": {},
   "outputs": [],
   "source": [
    "agent = REINFORCE(env.observation_space, env.action_space, config, postprocessing=compute_normalized_reward_to_go)"
   ]
  },
  {
   "cell_type": "code",
   "execution_count": null,
   "metadata": {},
   "outputs": [],
   "source": [
    "total_timesteps = 1_000_000\n",
    "timesteps, total_rewards, avg_total_rewards = train(agent, env, total_timesteps)"
   ]
  },
  {
   "cell_type": "code",
   "execution_count": null,
   "metadata": {},
   "outputs": [],
   "source": [
    "plot_returns(timesteps, total_rewards, avg_total_rewards)"
   ]
  },
  {
   "cell_type": "code",
   "execution_count": null,
   "metadata": {},
   "outputs": [],
   "source": [
    "# n_episodes = 5\n",
    "# _ = evaluate(agent, env, n_episodes, render=True)"
   ]
  },
  {
   "cell_type": "markdown",
   "metadata": {},
   "source": [
    "### 3.2 Função Valor "
   ]
  },
  {
   "cell_type": "code",
   "execution_count": null,
   "metadata": {},
   "outputs": [],
   "source": [
    "class VPG(REINFORCE):\n",
    "    \n",
    "    def __init__(self, obs_space, action_space, config, postprocessing=None):\n",
    "        super(VPG, self).__init__(obs_space, action_space, config, postprocessing)\n",
    "        \n",
    "        config = config[\"value_fn\"]\n",
    "        self.value_fn = build_value_network(obs_space, config[\"hidden_layers\"], config[\"activation\"])\n",
    "        self.value_fn.compile(config[\"optimizer\"], loss=\"MSE\")\n",
    "    \n",
    "    def learn(self):\n",
    "        if self.memory.batch_size < self.config[\"train_batch_size\"]:\n",
    "            return\n",
    "        \n",
    "        batch = self.memory.sample()\n",
    "\n",
    "        value_loss = self._train_value_fn(batch)\n",
    "        policy_loss = self._train_policy_fn(batch)\n",
    "      \n",
    "        return policy_loss, value_loss\n",
    "    \n",
    "    def _train_policy_fn(self, batch):\n",
    "        with tf.GradientTape() as tape:\n",
    "            policy_loss = self._loss_pg_fn(batch)\n",
    "            gradients = tape.gradient(policy_loss, self.policy.trainable_weights)\n",
    "        self.optimizer.apply_gradients(zip(gradients, self.policy.trainable_weights))\n",
    "        return policy_loss\n",
    "    \n",
    "    def _train_value_fn(self, batch):\n",
    "        states, rewards = batch[\"states\"], batch[\"rewards\"]\n",
    "        G = list(map(self.postprocessing, rewards))\n",
    "        \n",
    "        states = np.concatenate(states, axis=0)\n",
    "        G = np.concatenate(G, axis=0)\n",
    "\n",
    "        self.value_fn.fit(states, G, epochs=self.config[\"value_fn\"][\"epochs\"], verbose=0)\n",
    "\n",
    "        value_loss = self.value_fn.evaluate(states, G, verbose=0)\n",
    "        return value_loss\n",
    "    \n",
    "    def _loss_pg_fn(self, batch):\n",
    "        states, actions, rewards = batch[\"states\"], batch[\"actions\"], batch[\"rewards\"]\n",
    "        n_episodes = len(states)\n",
    "\n",
    "        loss = 0.0\n",
    "        for episode in range(n_episodes):\n",
    "            action_dist = self.policy(states[episode])\n",
    "            log_prob = action_dist.log_prob(actions[episode])\n",
    "\n",
    "            G = self.postprocessing(rewards[episode])\n",
    "            baseline = self.value_fn(states[episode])\n",
    "\n",
    "            loss += - tf.reduce_sum(log_prob * (G - baseline))\n",
    "\n",
    "        loss /= n_episodes\n",
    "            \n",
    "        return loss\n"
   ]
  },
  {
   "cell_type": "code",
   "execution_count": null,
   "metadata": {},
   "outputs": [],
   "source": [
    "config = {\n",
    "    **config,\n",
    "    \"value_fn\": {\n",
    "        # network\n",
    "        \"hidden_layers\": [32, 32],\n",
    "        \"activation\": \"relu\",\n",
    "        \n",
    "        # optimization\n",
    "        \"optimizer\": \"adam\",\n",
    "        \"learning_rate\": 3e-3,\n",
    "        \"epochs\": 5,\n",
    "    }\n",
    "}\n",
    "\n",
    "agent = VPG(env.observation_space, env.action_space, config, postprocessing=compute_normalized_reward_to_go)"
   ]
  },
  {
   "cell_type": "code",
   "execution_count": null,
   "metadata": {},
   "outputs": [],
   "source": [
    "total_timesteps = 1_000_000\n",
    "timesteps, total_rewards, avg_total_rewards = train(agent, env, total_timesteps)"
   ]
  },
  {
   "cell_type": "code",
   "execution_count": null,
   "metadata": {},
   "outputs": [],
   "source": [
    "plot_returns(timesteps, total_rewards, avg_total_rewards)"
   ]
  },
  {
   "cell_type": "code",
   "execution_count": null,
   "metadata": {},
   "outputs": [],
   "source": [
    "# n_episodes = 5\n",
    "# _ = evaluate(agent, env, n_episodes, render=True)"
   ]
  }
 ],
 "metadata": {
  "kernelspec": {
   "display_name": "Python 3",
   "language": "python",
   "name": "python3"
  },
  "language_info": {
   "codemirror_mode": {
    "name": "ipython",
    "version": 3
   },
   "file_extension": ".py",
   "mimetype": "text/x-python",
   "name": "python",
   "nbconvert_exporter": "python",
   "pygments_lexer": "ipython3",
   "version": "3.6.9"
  }
 },
 "nbformat": 4,
 "nbformat_minor": 4
}
