{
 "cells": [
  {
   "cell_type": "markdown",
   "metadata": {},
   "source": [
    "# Aula 3 - Parte Prática - Redução de Variância e Função Valor"
   ]
  },
  {
   "cell_type": "markdown",
   "metadata": {},
   "source": [
    "## Introdução\n",
    "\n",
    "Nesse terceiro notebook vamos aprender ...\n",
    "\n",
    "### Objetivos:\n",
    "\n",
    "- "
   ]
  },
  {
   "cell_type": "markdown",
   "metadata": {},
   "source": [
    "### Imports\n",
    "\n",
    "> **Atenção:** não se esqueça de executar todos os `imports` necessários antes prosseguir com o tutorial."
   ]
  },
  {
   "cell_type": "code",
   "execution_count": 1,
   "metadata": {},
   "outputs": [],
   "source": [
    "import gym\n",
    "import numpy as np\n",
    "import tensorflow as tf\n",
    "import tensorflow_probability as tfp"
   ]
  },
  {
   "cell_type": "markdown",
   "metadata": {},
   "source": [
    "### Política Estocástica em Keras (caso contínuo) "
   ]
  },
  {
   "cell_type": "code",
   "execution_count": 2,
   "metadata": {},
   "outputs": [],
   "source": [
    "tfd = tfp.distributions"
   ]
  },
  {
   "cell_type": "code",
   "execution_count": 3,
   "metadata": {},
   "outputs": [
    {
     "name": "stdout",
     "output_type": "stream",
     "text": [
      "WARNING:tensorflow:From /home/tbueno/Projects/curso-verao-rl-ime-2020/lib/python3.6/site-packages/tensorflow_core/python/ops/linalg/linear_operator_diag.py:166: calling LinearOperator.__init__ (from tensorflow.python.ops.linalg.linear_operator) with graph_parents is deprecated and will be removed in a future version.\n",
      "Instructions for updating:\n",
      "Do not pass `graph_parents`.  They will  no longer be used.\n"
     ]
    }
   ],
   "source": [
    "model = tf.keras.Sequential([\n",
    "    tf.keras.layers.Dense(128, activation=\"tanh\", input_shape=(10,)),\n",
    "    tf.keras.layers.Dense(128, activation=\"tanh\"),\n",
    "    tf.keras.layers.Dense(10),\n",
    "    tfp.layers.DistributionLambda(lambda t: tfd.MultivariateNormalDiag(loc=t, scale_diag=[1e-2] * 10))\n",
    "])"
   ]
  },
  {
   "cell_type": "code",
   "execution_count": 4,
   "metadata": {},
   "outputs": [
    {
     "name": "stdout",
     "output_type": "stream",
     "text": [
      "tf.Tensor(\n",
      "[[-0.23680624  1.5023457  -1.1089977   0.27807468 -2.2538388  -0.5737803\n",
      "  -0.20490654  1.2473729  -0.7489533   0.40630406]\n",
      " [ 0.4932065  -0.70384246 -0.34450826 -0.34582567 -0.36918163  0.9223177\n",
      "  -0.03294707  0.80128586 -0.02579398  0.65303445]\n",
      " [ 0.10057676 -0.3067007   0.47853523 -0.6956961  -0.2840347  -0.6872966\n",
      "   0.88367385 -1.5027109  -1.3793855   0.8161227 ]\n",
      " [-0.04017695  1.1584165   0.10236181  0.24958104 -0.4439568   0.85326725\n",
      "  -0.04932357 -0.71357495  0.61898744 -1.2811536 ]], shape=(4, 10), dtype=float32)\n"
     ]
    }
   ],
   "source": [
    "inputs = tf.random.normal(shape=(4, 10))\n",
    "print(inputs)"
   ]
  },
  {
   "cell_type": "code",
   "execution_count": 5,
   "metadata": {},
   "outputs": [
    {
     "name": "stdout",
     "output_type": "stream",
     "text": [
      "tfp.distributions.MultivariateNormalDiag(\"sequential_distribution_lambda_MultivariateNormalDiag\", batch_shape=[4], event_shape=[10], dtype=float32)\n"
     ]
    }
   ],
   "source": [
    "dist = model(inputs)\n",
    "print(dist)"
   ]
  },
  {
   "cell_type": "code",
   "execution_count": 6,
   "metadata": {},
   "outputs": [
    {
     "name": "stdout",
     "output_type": "stream",
     "text": [
      "tf.Tensor(\n",
      "[[-0.37482095  0.26842874  0.2500399   0.57459664  0.24114588 -0.6014773\n",
      "   0.24218102 -0.16643134  0.30735442 -0.37810487]\n",
      " [-0.1567775  -0.07728397  0.3800133   0.05840343 -0.24018553 -0.20644763\n",
      "   0.08574593 -0.34349683 -0.35529023 -0.21233612]\n",
      " [-0.28345206  0.18179542  0.04384815 -0.07962241 -0.27161238  0.34626088\n",
      "   0.21313384 -0.17098452  0.29824394  0.5754147 ]\n",
      " [ 0.3209522  -0.2566018   0.07487446  0.01460697  0.41561943 -0.09675525\n",
      "  -0.41220057  0.18668889  0.14782496 -0.19425866]], shape=(4, 10), dtype=float32)\n"
     ]
    }
   ],
   "source": [
    "sample = dist.sample()\n",
    "print(sample)"
   ]
  },
  {
   "cell_type": "code",
   "execution_count": 7,
   "metadata": {},
   "outputs": [
    {
     "name": "stdout",
     "output_type": "stream",
     "text": [
      "tf.Tensor([32.065407 31.086979 32.74576  35.238335], shape=(4,), dtype=float32)\n"
     ]
    }
   ],
   "source": [
    "sample_log_prob = dist.log_prob(sample)\n",
    "print(sample_log_prob)"
   ]
  },
  {
   "cell_type": "code",
   "execution_count": 8,
   "metadata": {},
   "outputs": [],
   "source": [
    "def build_continuous_policy(obs_space, action_space, hidden_layers, activation=\"relu\", scale_diag=1e-2):\n",
    "    Input = tf.keras.Input\n",
    "    Dense = tf.keras.layers.Dense\n",
    "    DistributionLambda = tfp.layers.DistributionLambda\n",
    "    MultivariateNormalDiag = tfd.MultivariateNormalDiag\n",
    "    \n",
    "    policy_net_layers = []\n",
    "    \n",
    "    policy_net_layers.append(Input(shape=obs_space.shape, name=\"State\"))\n",
    "\n",
    "    for i, units in enumerate(hidden_layers):\n",
    "        policy_net_layers.append(Dense(units=units, activation=activation, name=f\"Hidden{i+1}\"))\n",
    "\n",
    "    policy_net_layers.append(Dense(units=action_space.shape[0], name=\"Params\"))\n",
    "    policy_net_layers.append(DistributionLambda(\n",
    "        lambda t: MultivariateNormalDiag(loc=t, scale_diag=[scale_diag] * action_space.shape[0]),\n",
    "        name=\"Action_Distribution_Gaussian\"\n",
    "    ))\n",
    "                                     \n",
    "    return tf.keras.Sequential(policy_net_layers)"
   ]
  },
  {
   "cell_type": "code",
   "execution_count": 9,
   "metadata": {},
   "outputs": [
    {
     "name": "stdout",
     "output_type": "stream",
     "text": [
      "(10, 2)\n",
      "tfp.distributions.MultivariateNormalDiag(\"sequential_1_Action_Distribution_Gaussian_MultivariateNormalDiag\", batch_shape=[10], event_shape=[1], dtype=float32)\n"
     ]
    }
   ],
   "source": [
    "env = gym.make(\"MountainCarContinuous-v0\")\n",
    "\n",
    "hidden_layers = [32, 32, 32]\n",
    "activation = \"elu\"\n",
    "\n",
    "policy = build_continuous_policy(env.observation_space, env.action_space, hidden_layers, activation)\n",
    "\n",
    "batch_size = 10\n",
    "obs = np.array([env.observation_space.sample() for _ in range(batch_size)])\n",
    "print(obs.shape)\n",
    "\n",
    "action_dist = policy(obs)\n",
    "print(action_dist)\n",
    "\n",
    "action = action_dist.sample().numpy()\n",
    "assert action[0] in env.action_space"
   ]
  },
  {
   "cell_type": "code",
   "execution_count": 10,
   "metadata": {},
   "outputs": [
    {
     "data": {
      "image/png": "[encoded data removed]",
      "text/plain": [
       "<IPython.core.display.Image object>"
      ]
     },
     "execution_count": 10,
     "metadata": {},
     "output_type": "execute_result"
    }
   ],
   "source": [
    "tf.keras.utils.plot_model(policy, show_shapes=True)"
   ]
  },
  {
   "cell_type": "markdown",
   "metadata": {},
   "source": [
    "## Reward-to-Go "
   ]
  },
  {
   "cell_type": "code",
   "execution_count": 11,
   "metadata": {},
   "outputs": [],
   "source": [
    "def compute_reward_to_go(rewards):\n",
    "    n_episodes = len(rewards)\n",
    "\n",
    "    returns = []\n",
    "\n",
    "    for episode in range(n_episodes):\n",
    "        episode_returns = []\n",
    "        total_reward = 0.0\n",
    "\n",
    "        for i in range(len(rewards[episode]) - 1, -1, -1):\n",
    "            reward = rewards[episode][i]\n",
    "            total_reward += reward\n",
    "            episode_returns.append(total_reward)\n",
    "        \n",
    "        episode_returns = episode_returns[::-1]\n",
    "        returns.append(np.array(episode_returns))\n",
    "\n",
    "    return returns"
   ]
  },
  {
   "cell_type": "code",
   "execution_count": 12,
   "metadata": {},
   "outputs": [],
   "source": [
    "n_episodes, episode_length = 32, 20\n",
    "rewards = np.random.uniform(size=[n_episodes, episode_length])\n",
    "\n",
    "returns = compute_reward_to_go(rewards)\n",
    "\n",
    "assert len(returns) == n_episodes\n",
    "assert all(np.allclose(np.cumsum(rewards[i][::-1])[::-1], returns[i]) for i in range(n_episodes))"
   ]
  }
 ],
 "metadata": {
  "kernelspec": {
   "display_name": "Python 3",
   "language": "python",
   "name": "python3"
  },
  "language_info": {
   "codemirror_mode": {
    "name": "ipython",
    "version": 3
   },
   "file_extension": ".py",
   "mimetype": "text/x-python",
   "name": "python",
   "nbconvert_exporter": "python",
   "pygments_lexer": "ipython3",
   "version": "3.6.9"
  }
 },
 "nbformat": 4,
 "nbformat_minor": 4
}
