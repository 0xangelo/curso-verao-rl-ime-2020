{
 "cells": [
  {
   "cell_type": "markdown",
   "metadata": {},
   "source": [
    "# Aula 3 - Parte Prática - Redução de Variância e Função Valor"
   ]
  },
  {
   "cell_type": "markdown",
   "metadata": {},
   "source": [
    "## Introdução\n",
    "\n",
    "Nesse terceiro notebook vamos aprender ...\n",
    "\n",
    "### Objetivos:\n",
    "\n",
    "- "
   ]
  },
  {
   "cell_type": "markdown",
   "metadata": {},
   "source": [
    "### Imports\n",
    "\n",
    "> **Atenção:** não se esqueça de executar todos os `imports` necessários antes prosseguir com o tutorial."
   ]
  },
  {
   "cell_type": "code",
   "execution_count": null,
   "metadata": {},
   "outputs": [],
   "source": [
    "import gym\n",
    "import numpy as np\n",
    "import tensorflow as tf\n",
    "import tensorflow_probability as tfp\n",
    "\n",
    "from utils.agent import RLAgent\n",
    "from utils.memory import OnPolicyReplay\n",
    "from utils.networks import build_discrete_policy, build_continuous_policy\n",
    "from utils.runner import train, evaluate\n",
    "from utils.viz import plot_returns, plot_action_distribution\n",
    "\n",
    "\n",
    "tf.get_logger().setLevel('ERROR') # ignore TensorFlow warnings"
   ]
  },
  {
   "cell_type": "markdown",
   "metadata": {},
   "source": [
    "## 0. Configurações "
   ]
  },
  {
   "cell_type": "code",
   "execution_count": null,
   "metadata": {},
   "outputs": [],
   "source": [
    "# CartPole-v0, CartPole-v1\n",
    "env = gym.make(\"CartPole-v0\")\n",
    "print(env.spec.reward_threshold)"
   ]
  },
  {
   "cell_type": "code",
   "execution_count": null,
   "metadata": {},
   "outputs": [],
   "source": [
    "config = {\n",
    "    # policy net\n",
    "    \"hidden_layers\": [64, 64],\n",
    "    \"activation\": \"relu\",\n",
    "\n",
    "    # optimization\n",
    "    \"optimizer\": \"adam\",\n",
    "    \"learning_rate\": 1e-3,\n",
    "\n",
    "    # training\n",
    "    \"train_batch_size\": 3000,\n",
    "}"
   ]
  },
  {
   "cell_type": "markdown",
   "metadata": {},
   "source": [
    "## 1. REINFORCE (Vanilla Policy Gradients) "
   ]
  },
  {
   "cell_type": "code",
   "execution_count": null,
   "metadata": {},
   "outputs": [],
   "source": [
    "class REINFORCE(RLAgent):\n",
    "    \n",
    "    def __init__(self, obs_space, action_space, postprocessing=None, config=None):\n",
    "        super(REINFORCE, self).__init__(obs_space, action_space, config)\n",
    "        \n",
    "        self.memory = OnPolicyReplay()\n",
    "        self.policy = build_discrete_policy(self.obs_space, self.action_space, config[\"hidden_layers\"], config[\"activation\"])\n",
    "        self.optimizer = tf.keras.optimizers.Adam(learning_rate=config[\"learning_rate\"])\n",
    "        \n",
    "        self.postprocessing = postprocessing\n",
    "\n",
    "    def act(self, obs):\n",
    "        return self._act(obs).numpy()\n",
    "    \n",
    "    @tf.function\n",
    "    def _act(self, obs):\n",
    "        action_dist = self.policy(obs[None,:])\n",
    "        return action_dist.sample()[0]\n",
    "\n",
    "    def observe(self, obs, action, reward, next_obs, done):\n",
    "        self.memory.update(obs, action, reward, next_obs, done)\n",
    "\n",
    "    def learn(self):\n",
    "        if self.memory.batch_size < self.config[\"train_batch_size\"]:\n",
    "            return\n",
    "        \n",
    "        batch = self.memory.sample()\n",
    "\n",
    "        weights = self.policy.trainable_weights\n",
    "\n",
    "        with tf.GradientTape() as tape:\n",
    "            loss = self._loss_fn(batch)\n",
    "            gradients = tape.gradient(loss, weights)\n",
    "\n",
    "        self.optimizer.apply_gradients(zip(gradients, weights))\n",
    "      \n",
    "        return loss\n",
    "\n",
    "    def _loss_fn(self, batch):\n",
    "        states, actions, rewards = batch[\"states\"], batch[\"actions\"], batch[\"rewards\"]\n",
    "        n_episodes = len(states)\n",
    "        \n",
    "        if self.postprocessing:\n",
    "            G = self.postprocessing(rewards)\n",
    "        else:\n",
    "            G = [np.sum(rewards[episode]) for episode in range(n_episodes)]\n",
    "\n",
    "        loss = 0.0\n",
    "        for episode in range(n_episodes):\n",
    "            action_dist = self.policy(states[episode])\n",
    "            log_prob = action_dist.log_prob(actions[episode])\n",
    "            loss += - tf.reduce_sum(log_prob * G[episode])\n",
    "\n",
    "        loss /= n_episodes\n",
    "            \n",
    "        return loss"
   ]
  },
  {
   "cell_type": "code",
   "execution_count": null,
   "metadata": {},
   "outputs": [],
   "source": [
    "agent = REINFORCE(env.observation_space, env.action_space, config=config)"
   ]
  },
  {
   "cell_type": "code",
   "execution_count": null,
   "metadata": {},
   "outputs": [],
   "source": [
    "total_timesteps = 1_000_000\n",
    "timesteps, total_rewards, avg_total_rewards = train(agent, env, total_timesteps)"
   ]
  },
  {
   "cell_type": "code",
   "execution_count": null,
   "metadata": {},
   "outputs": [],
   "source": [
    "plot_returns(timesteps, total_rewards, avg_total_rewards)"
   ]
  },
  {
   "cell_type": "markdown",
   "metadata": {},
   "source": [
    "## 2. Policy Gradients: ignorando recompensas passadas"
   ]
  },
  {
   "cell_type": "markdown",
   "metadata": {},
   "source": [
    "$$\n",
    "\\nabla_\\theta J(\\theta) = \\mathbb{E}_{\\tau \\sim \\pi_\\theta} \\left [ \\sum_{t=0}^T \\nabla_\\theta \\log \\pi_\\theta(\\mathbf{a}_t|\\mathbf{s}_t) \\hat{R}_t \\right ]\n",
    "$$\n",
    "\n",
    "$$\n",
    "\\hat{R}_t = \\sum_{t'=t}^T r_{t'}\n",
    "$$\n"
   ]
  },
  {
   "cell_type": "markdown",
   "metadata": {},
   "source": [
    "### 2.1 Reward-to-Go "
   ]
  },
  {
   "cell_type": "code",
   "execution_count": null,
   "metadata": {},
   "outputs": [],
   "source": [
    "def compute_reward_to_go(rewards):\n",
    "    n_episodes = len(rewards)\n",
    "\n",
    "    returns = []\n",
    "\n",
    "    for episode in range(n_episodes):\n",
    "        episode_returns = []\n",
    "        total_reward = 0.0\n",
    "\n",
    "        for i in range(len(rewards[episode]) - 1, -1, -1):\n",
    "            reward = rewards[episode][i]\n",
    "            total_reward += reward\n",
    "            episode_returns.append(total_reward)\n",
    "        \n",
    "        episode_returns = episode_returns[::-1]\n",
    "        returns.append(np.array(episode_returns))\n",
    "\n",
    "    return returns"
   ]
  },
  {
   "cell_type": "code",
   "execution_count": null,
   "metadata": {},
   "outputs": [],
   "source": [
    "n_episodes, episode_length = 32, 20\n",
    "rewards = np.random.uniform(size=[n_episodes, episode_length])\n",
    "\n",
    "returns = compute_reward_to_go(rewards)\n",
    "\n",
    "assert len(returns) == n_episodes\n",
    "assert all(np.allclose(np.cumsum(rewards[i][::-1])[::-1], returns[i]) for i in range(n_episodes))"
   ]
  },
  {
   "cell_type": "markdown",
   "metadata": {},
   "source": [
    "### 2.2 REINFORCE + Reward-to-Go"
   ]
  },
  {
   "cell_type": "code",
   "execution_count": null,
   "metadata": {},
   "outputs": [],
   "source": [
    "agent = REINFORCE(env.observation_space, env.action_space, postprocessing=compute_reward_to_go, config=config)"
   ]
  },
  {
   "cell_type": "code",
   "execution_count": null,
   "metadata": {},
   "outputs": [],
   "source": [
    "total_timesteps = 1_000_000\n",
    "timesteps, total_rewards, avg_total_rewards = train(agent, env, total_timesteps)"
   ]
  },
  {
   "cell_type": "code",
   "execution_count": null,
   "metadata": {},
   "outputs": [],
   "source": [
    "plot_returns(timesteps, total_rewards, avg_total_rewards)"
   ]
  },
  {
   "cell_type": "code",
   "execution_count": null,
   "metadata": {},
   "outputs": [],
   "source": [
    "# n_episodes = 5\n",
    "# _ = evaluate(agent, env, n_episodes, render=True)"
   ]
  },
  {
   "cell_type": "markdown",
   "metadata": {},
   "source": [
    "## 3. Policy Gradients: adicionando referências para os retornos (baseline)"
   ]
  },
  {
   "cell_type": "markdown",
   "metadata": {},
   "source": [
    "###  3.1 Normalização dos *reward-to-go*"
   ]
  },
  {
   "cell_type": "code",
   "execution_count": null,
   "metadata": {},
   "outputs": [],
   "source": [
    "def compute_normalized_reward_to_go(rewards):\n",
    "    reward_to_go = compute_reward_to_go(rewards)\n",
    "\n",
    "    n_episodes = len(rewards)\n",
    "    for episode in range(n_episodes):\n",
    "        G = reward_to_go[episode]\n",
    "        G_mean = np.mean(G)\n",
    "        G_std = np.std(G)\n",
    "        reward_to_go[episode] = (G - G_mean) / (G_std if G_std > 0.0 else 1.0)\n",
    "\n",
    "    return reward_to_go"
   ]
  },
  {
   "cell_type": "code",
   "execution_count": null,
   "metadata": {},
   "outputs": [],
   "source": [
    "agent = REINFORCE(env.observation_space, env.action_space, postprocessing=compute_normalized_reward_to_go, config=config)"
   ]
  },
  {
   "cell_type": "code",
   "execution_count": null,
   "metadata": {},
   "outputs": [],
   "source": [
    "total_timesteps = 1_000_000\n",
    "timesteps, total_rewards, avg_total_rewards = train(agent, env, total_timesteps)"
   ]
  },
  {
   "cell_type": "code",
   "execution_count": null,
   "metadata": {},
   "outputs": [],
   "source": [
    "plot_returns(timesteps, total_rewards, avg_total_rewards)"
   ]
  },
  {
   "cell_type": "code",
   "execution_count": null,
   "metadata": {},
   "outputs": [],
   "source": [
    "# n_episodes = 5\n",
    "# _ = evaluate(agent, env, n_episodes, render=True)"
   ]
  },
  {
   "cell_type": "markdown",
   "metadata": {},
   "source": [
    "### 3.2 Função Valor "
   ]
  },
  {
   "cell_type": "code",
   "execution_count": null,
   "metadata": {},
   "outputs": [],
   "source": []
  }
 ],
 "metadata": {
  "kernelspec": {
   "display_name": "Python 3",
   "language": "python",
   "name": "python3"
  },
  "language_info": {
   "codemirror_mode": {
    "name": "ipython",
    "version": 3
   },
   "file_extension": ".py",
   "mimetype": "text/x-python",
   "name": "python",
   "nbconvert_exporter": "python",
   "pygments_lexer": "ipython3",
   "version": "3.6.9"
  }
 },
 "nbformat": 4,
 "nbformat_minor": 4
}
