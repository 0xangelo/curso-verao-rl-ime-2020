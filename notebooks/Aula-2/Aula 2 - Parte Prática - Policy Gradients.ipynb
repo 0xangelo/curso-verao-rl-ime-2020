{
 "cells": [
  {
   "cell_type": "markdown",
   "metadata": {},
   "source": [
    "# Aula 2 - Parte Prática - Policy Gradients "
   ]
  },
  {
   "cell_type": "markdown",
   "metadata": {},
   "source": [
    "## Introdução\n",
    "\n",
    "Nesse segundo notebook vamos aprender ...\n",
    "\n",
    "### Objetivos:\n",
    "\n",
    "- Entender a abordagem de otimização de políticas como busca no espaço de parâmetros da política\n",
    "- Implementar um primeiro agente baseado no algoritmo REINFORCE\n",
    "- Familiarizar-se com a API básica de construção de modelos (i.e., redes neurais) em Keras\n",
    "- Familiarizar-se com métodos de Deep Learning usando TensorFlow 2.X"
   ]
  },
  {
   "cell_type": "markdown",
   "metadata": {},
   "source": [
    "### Imports\n",
    "\n",
    "> **Atenção:** não se esqueça de executar todos os `imports` necessários antes prosseguir com o tutorial."
   ]
  },
  {
   "cell_type": "code",
   "execution_count": 1,
   "metadata": {},
   "outputs": [],
   "source": [
    "import gym\n",
    "import numpy as np\n",
    "import tensorflow as tf\n",
    "import tensorflow_probability as tfp\n",
    "\n",
    "from utils.agent import RLAgent\n",
    "from utils.memory import OnPolicyReplay"
   ]
  },
  {
   "cell_type": "code",
   "execution_count": 2,
   "metadata": {},
   "outputs": [],
   "source": [
    "# sanity check\n",
    "assert tf.__version__ == '2.1.0'\n",
    "assert tf.executing_eagerly()"
   ]
  },
  {
   "cell_type": "markdown",
   "metadata": {},
   "source": [
    "## 1. Implementando políticas estocásticas em tf.Keras "
   ]
  },
  {
   "cell_type": "code",
   "execution_count": 3,
   "metadata": {},
   "outputs": [],
   "source": [
    "tfd = tfp.distributions"
   ]
  },
  {
   "cell_type": "markdown",
   "metadata": {},
   "source": [
    "### 1.1 Caso discreto"
   ]
  },
  {
   "cell_type": "code",
   "execution_count": 4,
   "metadata": {},
   "outputs": [],
   "source": [
    "model = tf.keras.Sequential([\n",
    "    tf.keras.layers.Dense(32, input_shape=(5,), activation=\"relu\"),\n",
    "    tf.keras.layers.Dense(32, activation=\"relu\"),\n",
    "    tf.keras.layers.Dense(3),\n",
    "    tfp.layers.DistributionLambda(lambda t: tfd.Categorical(logits=t))\n",
    "])"
   ]
  },
  {
   "cell_type": "code",
   "execution_count": 5,
   "metadata": {},
   "outputs": [
    {
     "name": "stdout",
     "output_type": "stream",
     "text": [
      "tf.Tensor(\n",
      "[[ 0.6516935  -1.321427    0.19118837 -0.56716627  0.531668  ]\n",
      " [-0.21980338  0.31888047  2.0107214  -0.54039264  0.3867827 ]\n",
      " [-0.3880823   0.26149026  1.1242174  -0.58623123 -0.3331511 ]\n",
      " [-0.18811196  0.8102369  -0.20803975  0.07922257  0.88035494]\n",
      " [ 0.7955195   0.87385076 -0.09856023  0.24686508  0.06624642]\n",
      " [ 0.676669   -0.8053825   1.2392888  -0.90128523  1.0386181 ]\n",
      " [ 0.24409437  0.20747551  0.15051192 -0.72023046  2.0763767 ]\n",
      " [-1.108595    2.0102892  -0.6123296   0.6003363  -1.792374  ]\n",
      " [-1.5494828  -1.3363241  -0.07497222  0.11508588  2.2506092 ]\n",
      " [ 0.51549774  0.23629206 -0.38434038  0.02539568 -0.92246825]], shape=(10, 5), dtype=float32)\n"
     ]
    }
   ],
   "source": [
    "inputs = tf.random.normal(shape=(10, 5))\n",
    "print(inputs)"
   ]
  },
  {
   "cell_type": "code",
   "execution_count": 6,
   "metadata": {},
   "outputs": [
    {
     "name": "stdout",
     "output_type": "stream",
     "text": [
      "tfp.distributions.Categorical(\"sequential_distribution_lambda_Categorical\", batch_shape=[10], event_shape=[], dtype=int32)\n"
     ]
    }
   ],
   "source": [
    "dist = model(inputs)\n",
    "print(dist)"
   ]
  },
  {
   "cell_type": "code",
   "execution_count": 7,
   "metadata": {},
   "outputs": [
    {
     "name": "stdout",
     "output_type": "stream",
     "text": [
      "tf.Tensor([0 2 1 0 0 1 0 2 0 0], shape=(10,), dtype=int32)\n"
     ]
    }
   ],
   "source": [
    "sample = dist.sample()\n",
    "print(sample)"
   ]
  },
  {
   "cell_type": "code",
   "execution_count": 8,
   "metadata": {},
   "outputs": [
    {
     "name": "stdout",
     "output_type": "stream",
     "text": [
      "tf.Tensor(\n",
      "[-0.9859321  -0.97953105 -1.1788023  -0.84877026 -0.98579305 -1.3612617\n",
      " -0.91246974 -1.5044441  -0.98737204 -0.89014393], shape=(10,), dtype=float32)\n"
     ]
    }
   ],
   "source": [
    "sample_log_prob = dist.log_prob(sample)\n",
    "print(sample_log_prob)"
   ]
  },
  {
   "cell_type": "code",
   "execution_count": 9,
   "metadata": {},
   "outputs": [],
   "source": [
    "def build_discrete_policy(obs_space, action_space, hidden_layers, activation=\"relu\"):\n",
    "    Input = tf.keras.Input\n",
    "    Dense = tf.keras.layers.Dense\n",
    "    DistributionLambda = tfp.layers.DistributionLambda\n",
    "    Categorical = tfd.Categorical\n",
    "    \n",
    "    policy_net_layers = []\n",
    "\n",
    "    policy_net_layers.append(Input(shape=obs_space.shape, name=\"State\"))\n",
    "\n",
    "    for i, units in enumerate(hidden_layers):\n",
    "        policy_net_layers.append(Dense(units=units, activation=activation, name=f\"Hidden{i+1}\"))\n",
    "    \n",
    "    policy_net_layers.append(Dense(units=action_space.n, name=\"Logits\"))\n",
    "    policy_net_layers.append(DistributionLambda(lambda t: Categorical(logits=t), name=\"Action_Distribution_Categorical\"))\n",
    "                                     \n",
    "    return tf.keras.Sequential(policy_net_layers)\n"
   ]
  },
  {
   "cell_type": "code",
   "execution_count": 10,
   "metadata": {},
   "outputs": [
    {
     "name": "stdout",
     "output_type": "stream",
     "text": [
      "tfp.distributions.Categorical(\"sequential_1_Action_Distribution_Categorical_Categorical\", batch_shape=[1], event_shape=[], dtype=int32)\n"
     ]
    }
   ],
   "source": [
    "env = gym.make(\"MountainCar-v0\")\n",
    "\n",
    "hidden_layers = [64, 64]\n",
    "activation = \"relu\"\n",
    "\n",
    "policy = build_discrete_policy(env.observation_space, env.action_space, hidden_layers, activation)\n",
    "\n",
    "obs = env.observation_space.sample()\n",
    "\n",
    "action_dist = policy(obs[None,:])\n",
    "print(action_dist)\n",
    "\n",
    "action = action_dist.sample().numpy()\n",
    "assert action[0] in env.action_space"
   ]
  },
  {
   "cell_type": "code",
   "execution_count": 11,
   "metadata": {},
   "outputs": [
    {
     "name": "stdout",
     "output_type": "stream",
     "text": [
      "Requirement already satisfied: pydot in /home/tbueno/Projects/curso-verao-rl-ime-2020/lib/python3.6/site-packages (1.4.1)\n",
      "Requirement already satisfied: graphviz in /home/tbueno/Projects/curso-verao-rl-ime-2020/lib/python3.6/site-packages (0.13.2)\n",
      "Requirement already satisfied: pyparsing>=2.1.4 in /home/tbueno/Projects/curso-verao-rl-ime-2020/lib/python3.6/site-packages (from pydot) (2.4.6)\n"
     ]
    }
   ],
   "source": [
    "!pip3 install pydot graphviz\n",
    "import pydot"
   ]
  },
  {
   "cell_type": "code",
   "execution_count": 12,
   "metadata": {},
   "outputs": [
    {
     "data": {
      "image/png": "[encoded data removed]",
      "text/plain": [
       "<IPython.core.display.Image object>"
      ]
     },
     "execution_count": 12,
     "metadata": {},
     "output_type": "execute_result"
    }
   ],
   "source": [
    "tf.keras.utils.plot_model(policy, show_shapes=True)"
   ]
  },
  {
   "cell_type": "markdown",
   "metadata": {},
   "source": [
    "### 1.2 Caso contínuo "
   ]
  },
  {
   "cell_type": "code",
   "execution_count": 13,
   "metadata": {},
   "outputs": [
    {
     "name": "stdout",
     "output_type": "stream",
     "text": [
      "WARNING:tensorflow:From /home/tbueno/Projects/curso-verao-rl-ime-2020/lib/python3.6/site-packages/tensorflow_core/python/ops/linalg/linear_operator_diag.py:166: calling LinearOperator.__init__ (from tensorflow.python.ops.linalg.linear_operator) with graph_parents is deprecated and will be removed in a future version.\n",
      "Instructions for updating:\n",
      "Do not pass `graph_parents`.  They will  no longer be used.\n"
     ]
    }
   ],
   "source": [
    "model = tf.keras.Sequential([\n",
    "    tf.keras.layers.Dense(128, activation=\"tanh\", input_shape=(10,)),\n",
    "    tf.keras.layers.Dense(128, activation=\"tanh\"),\n",
    "    tf.keras.layers.Dense(10),\n",
    "    tfp.layers.DistributionLambda(lambda t: tfd.MultivariateNormalDiag(loc=t, scale_diag=[1e-2] * 10))\n",
    "])"
   ]
  },
  {
   "cell_type": "code",
   "execution_count": 14,
   "metadata": {},
   "outputs": [
    {
     "name": "stdout",
     "output_type": "stream",
     "text": [
      "tf.Tensor(\n",
      "[[-0.7566896  -1.4012659  -1.2918531  -1.0614847   0.32760876 -1.4899858\n",
      "   0.5379313   1.3284984   0.5799186   0.8666134 ]\n",
      " [-1.0999258  -0.2729135  -1.0124594   1.6092136   1.2376618   0.76765025\n",
      "  -0.4854391   1.1944795  -2.508321    0.32169646]\n",
      " [ 0.7350903  -1.2825606   0.77931464 -0.5717537  -0.68754786 -1.051087\n",
      "   0.6365618   0.264257   -1.7764816  -0.29250672]\n",
      " [ 1.4333795  -0.06285992  0.89235365 -1.2691898   0.48452634  2.2792509\n",
      "   0.9805326   0.17177472 -0.23547101 -0.52596396]], shape=(4, 10), dtype=float32)\n"
     ]
    }
   ],
   "source": [
    "inputs = tf.random.normal(shape=(4, 10))\n",
    "print(inputs)"
   ]
  },
  {
   "cell_type": "code",
   "execution_count": 15,
   "metadata": {},
   "outputs": [
    {
     "name": "stdout",
     "output_type": "stream",
     "text": [
      "tfp.distributions.MultivariateNormalDiag(\"sequential_2_distribution_lambda_1_MultivariateNormalDiag\", batch_shape=[4], event_shape=[10], dtype=float32)\n"
     ]
    }
   ],
   "source": [
    "dist = model(inputs)\n",
    "print(dist)"
   ]
  },
  {
   "cell_type": "code",
   "execution_count": 16,
   "metadata": {},
   "outputs": [
    {
     "name": "stdout",
     "output_type": "stream",
     "text": [
      "tf.Tensor(\n",
      "[[ 0.01484306 -0.06879625  0.7883455   0.03098343 -0.5761249   0.34043354\n",
      "   0.15781449 -0.14129558  0.44101587 -0.22057182]\n",
      " [-0.09214492 -0.06182492  0.5690886   0.48418242 -0.12569898  0.5010416\n",
      "   0.18962497  0.6186287  -0.96270835  0.742709  ]\n",
      " [-0.6956797  -0.05231893 -0.27156422  0.42929003 -0.03964076  0.00220006\n",
      "  -0.09422887 -0.56170803  0.60105044  0.12272887]\n",
      " [-0.45086986 -0.26565406 -1.1957461  -0.07054019  0.2825595   1.0128492\n",
      "   0.7551321  -0.5197913   0.6217257  -0.5774954 ]], shape=(4, 10), dtype=float32)\n"
     ]
    }
   ],
   "source": [
    "sample = dist.sample()\n",
    "print(sample)"
   ]
  },
  {
   "cell_type": "code",
   "execution_count": 17,
   "metadata": {},
   "outputs": [
    {
     "name": "stdout",
     "output_type": "stream",
     "text": [
      "tf.Tensor([32.629776 28.931648 29.858183 32.16053 ], shape=(4,), dtype=float32)\n"
     ]
    }
   ],
   "source": [
    "sample_log_prob = dist.log_prob(sample)\n",
    "print(sample_log_prob)"
   ]
  },
  {
   "cell_type": "code",
   "execution_count": 18,
   "metadata": {},
   "outputs": [],
   "source": [
    "def build_continuous_policy(obs_space, action_space, hidden_layers, activation=\"relu\", scale_diag=1e-2):\n",
    "    Input = tf.keras.Input\n",
    "    Dense = tf.keras.layers.Dense\n",
    "    DistributionLambda = tfp.layers.DistributionLambda\n",
    "    MultivariateNormalDiag = tfd.MultivariateNormalDiag\n",
    "    \n",
    "    policy_net_layers = []\n",
    "    \n",
    "    policy_net_layers.append(Input(shape=obs_space.shape, name=\"State\"))\n",
    "\n",
    "    for i, units in enumerate(hidden_layers):\n",
    "        policy_net_layers.append(Dense(units=units, activation=activation, name=f\"Hidden{i+1}\"))\n",
    "\n",
    "    policy_net_layers.append(Dense(units=action_space.shape[0], name=\"Params\"))\n",
    "    policy_net_layers.append(DistributionLambda(\n",
    "        lambda t: MultivariateNormalDiag(loc=t, scale_diag=[scale_diag] * action_space.shape[0]),\n",
    "        name=\"Action_Distribution_Gaussian\"\n",
    "    ))\n",
    "                                     \n",
    "    return tf.keras.Sequential(policy_net_layers)"
   ]
  },
  {
   "cell_type": "code",
   "execution_count": 19,
   "metadata": {},
   "outputs": [
    {
     "name": "stdout",
     "output_type": "stream",
     "text": [
      "tfp.distributions.MultivariateNormalDiag(\"sequential_3_Action_Distribution_Gaussian_MultivariateNormalDiag\", batch_shape=[1], event_shape=[1], dtype=float32)\n"
     ]
    }
   ],
   "source": [
    "env = gym.make(\"MountainCarContinuous-v0\")\n",
    "\n",
    "hidden_layers = [32, 32, 32]\n",
    "activation = \"elu\"\n",
    "\n",
    "policy = build_continuous_policy(env.observation_space, env.action_space, hidden_layers, activation)\n",
    "\n",
    "obs = env.observation_space.sample()\n",
    "\n",
    "action_dist = policy(obs[None,:])\n",
    "print(action_dist)\n",
    "\n",
    "action = action_dist.sample().numpy()\n",
    "assert action[0] in env.action_space"
   ]
  },
  {
   "cell_type": "code",
   "execution_count": 20,
   "metadata": {},
   "outputs": [
    {
     "data": {
      "image/png": "[encoded data removed]",
      "text/plain": [
       "<IPython.core.display.Image object>"
      ]
     },
     "execution_count": 20,
     "metadata": {},
     "output_type": "execute_result"
    }
   ],
   "source": [
    "tf.keras.utils.plot_model(policy, show_shapes=True)"
   ]
  },
  {
   "cell_type": "markdown",
   "metadata": {},
   "source": [
    "## 2. Agente REINFORCE"
   ]
  },
  {
   "cell_type": "code",
   "execution_count": 21,
   "metadata": {},
   "outputs": [],
   "source": [
    "env = gym.make(\"MountainCar-v0\")\n",
    "\n",
    "memory = OnPolicyReplay()\n",
    "\n",
    "total_experiences = 0\n",
    "n_episodes = 5\n",
    "total_rewards = []\n",
    "\n",
    "for _ in range(n_episodes):\n",
    "    total_reward = 0.0\n",
    "    obs = env.reset()\n",
    "    while True:\n",
    "        action = env.action_space.sample()\n",
    "        next_obs, reward, done, _ = env.step(action)\n",
    "        memory.update(obs, action, reward, next_obs, done)\n",
    "        total_reward += reward\n",
    "        next_obs = obs\n",
    "        if done:\n",
    "            total_rewards.append(total_reward)\n",
    "            break\n",
    "\n",
    "batch = memory.sample()"
   ]
  },
  {
   "cell_type": "markdown",
   "metadata": {},
   "source": [
    "### 2.1 Calculando retornos de episódios\n",
    "\n",
    "$$\n",
    "\\hat{R}_t = \\sum_{t'=t}^T r_{t'}\n",
    "$$"
   ]
  },
  {
   "cell_type": "code",
   "execution_count": 22,
   "metadata": {},
   "outputs": [],
   "source": [
    "def compute_returns(batch):\n",
    "    rewards = batch[\"rewards\"]\n",
    "    n_episodes = len(rewards)\n",
    "\n",
    "    returns = []\n",
    "\n",
    "    for episode in range(n_episodes):\n",
    "        episode_returns = []\n",
    "        total_reward = 0.0\n",
    "\n",
    "        for i in range(len(rewards[episode]) - 1, -1, -1):\n",
    "            reward = rewards[episode][i]\n",
    "            total_reward += reward\n",
    "            episode_returns.append(total_reward)\n",
    "        \n",
    "        episode_returns = episode_returns[::-1]\n",
    "        returns.append(episode_returns)\n",
    "\n",
    "    return np.array(returns)"
   ]
  },
  {
   "cell_type": "code",
   "execution_count": 23,
   "metadata": {},
   "outputs": [
    {
     "name": "stdout",
     "output_type": "stream",
     "text": [
      "(5, 200)\n"
     ]
    }
   ],
   "source": [
    "returns = compute_returns(batch)\n",
    "print(returns.shape)\n",
    "\n",
    "assert len(returns) == n_episodes\n",
    "assert all(np.allclose(returns[i][0], total_rewards[i]) for i in range(n_episodes))\n",
    "assert all(np.allclose(np.cumsum(batch[\"rewards\"][i][::-1])[::-1], returns[i]) for i in range(n_episodes))"
   ]
  },
  {
   "cell_type": "markdown",
   "metadata": {},
   "source": [
    "### 2.2 Implementação do *surrogate loss*: combinando log-prob e retornos "
   ]
  },
  {
   "cell_type": "code",
   "execution_count": 24,
   "metadata": {},
   "outputs": [],
   "source": [
    "class REINFORCE(RLAgent):\n",
    "    \n",
    "    def __init__(self, obs_space, action_space, config=None):\n",
    "        super(REINFORCE, self).__init__(obs_space, action_space, config)\n",
    "        \n",
    "        self._build_memory()\n",
    "        self._build_policy()\n",
    "        \n",
    "    def _build_memory(self):\n",
    "        self.memory = OnPolicyReplay()\n",
    "        \n",
    "    def _build_policy(self):\n",
    "        if isinstance(self.action_space, gym.spaces.discrete.Discrete):\n",
    "            self.policy = build_discrete_policy(self.obs_space, self.action_space, config[\"hidden_layers\"], config[\"activation\"])\n",
    "        else:\n",
    "            self.policy = build_continuous_policy(self.obs_space, self.action_space, config[\"hidden_layers\"], config[\"activation\"])\n",
    "\n",
    "    def act(self, obs):\n",
    "        action_dist = self.policy(obs)\n",
    "        return action_dist.sample().numpy()\n",
    "\n",
    "    def observe(self, obs, action, reward, next_obs, done):\n",
    "        self.memory.update(obs, action, reward, next_obs, done)\n",
    "\n",
    "    def learn(self):\n",
    "        pass\n"
   ]
  },
  {
   "cell_type": "code",
   "execution_count": 25,
   "metadata": {},
   "outputs": [],
   "source": [
    "config = {\n",
    "    \"hidden_layers\": [32, 32],\n",
    "    \"activation\": \"relu\"\n",
    "}\n",
    "\n",
    "agent = REINFORCE(env.observation_space, env.action_space, config=config)"
   ]
  },
  {
   "cell_type": "code",
   "execution_count": 26,
   "metadata": {},
   "outputs": [],
   "source": [
    "def compute_log_probs(batch, policy):\n",
    "    states, actions = batch[\"states\"], batch[\"actions\"]\n",
    "    n_episodes = len(states)\n",
    "    \n",
    "    log_probs = []\n",
    "    for episode in range(n_episodes):\n",
    "        states_ = tf.constant(states[episode], dtype=tf.float32)\n",
    "        actions_ = tf.constant(actions[episode], dtype=tf.float32)\n",
    "        action_dist = policy(states_)\n",
    "        log_probs.append(action_dist.log_prob(actions_))\n",
    "        \n",
    "    return np.array(log_probs)"
   ]
  },
  {
   "cell_type": "code",
   "execution_count": 27,
   "metadata": {},
   "outputs": [
    {
     "name": "stdout",
     "output_type": "stream",
     "text": [
      "(5, 200)\n"
     ]
    }
   ],
   "source": [
    "log_probs = compute_log_probs(batch, agent.policy)\n",
    "print(log_probs.shape)"
   ]
  },
  {
   "cell_type": "markdown",
   "metadata": {},
   "source": [
    "## 3. Treinamento do agente"
   ]
  },
  {
   "cell_type": "code",
   "execution_count": null,
   "metadata": {},
   "outputs": [],
   "source": []
  },
  {
   "cell_type": "markdown",
   "metadata": {},
   "source": [
    "## 4. Experimentos "
   ]
  },
  {
   "cell_type": "code",
   "execution_count": null,
   "metadata": {},
   "outputs": [],
   "source": []
  }
 ],
 "metadata": {
  "kernelspec": {
   "display_name": "Python 3",
   "language": "python",
   "name": "python3"
  },
  "language_info": {
   "codemirror_mode": {
    "name": "ipython",
    "version": 3
   },
   "file_extension": ".py",
   "mimetype": "text/x-python",
   "name": "python",
   "nbconvert_exporter": "python",
   "pygments_lexer": "ipython3",
   "version": "3.6.9"
  }
 },
 "nbformat": 4,
 "nbformat_minor": 4
}
