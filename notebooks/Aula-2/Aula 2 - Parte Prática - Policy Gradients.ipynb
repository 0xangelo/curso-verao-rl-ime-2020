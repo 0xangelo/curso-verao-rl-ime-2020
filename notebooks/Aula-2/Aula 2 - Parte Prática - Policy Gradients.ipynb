{
 "cells": [
  {
   "cell_type": "markdown",
   "metadata": {},
   "source": [
    "# Aula 2 - Parte Prática - Policy Gradients "
   ]
  },
  {
   "cell_type": "markdown",
   "metadata": {},
   "source": [
    "## Introdução\n",
    "\n",
    "Nesse segundo notebook vamos aprender ...\n",
    "\n",
    "### Objetivos:\n",
    "\n",
    "- Entender a abordagem de otimização de políticas como busca no espaço de parâmetros da política\n",
    "- Implementar um primeiro agente baseado no algoritmo REINFORCE\n",
    "- Familiarizar-se com a API básica de construção de modelos (i.e., redes neurais) em Keras\n",
    "- Familiarizar-se com métodos de Deep Learning usando TensorFlow 2.X"
   ]
  },
  {
   "cell_type": "markdown",
   "metadata": {},
   "source": [
    "### Imports\n",
    "\n",
    "> **Atenção:** não se esqueça de executar todos os `imports` necessários antes prosseguir com o tutorial."
   ]
  },
  {
   "cell_type": "code",
   "execution_count": null,
   "metadata": {},
   "outputs": [],
   "source": [
    "import gym\n",
    "import numpy as np\n",
    "import tensorflow as tf\n",
    "import tensorflow_probability as tfp\n",
    "\n",
    "from utils.agent import RLAgent\n",
    "from utils.memory import OnPolicyReplay"
   ]
  },
  {
   "cell_type": "code",
   "execution_count": null,
   "metadata": {},
   "outputs": [],
   "source": [
    "# sanity check\n",
    "assert tf.__version__ == '2.1.0'\n",
    "assert tf.executing_eagerly()"
   ]
  },
  {
   "cell_type": "markdown",
   "metadata": {},
   "source": [
    "## 1. Implementando políticas estocásticas em tf.Keras "
   ]
  },
  {
   "cell_type": "code",
   "execution_count": null,
   "metadata": {},
   "outputs": [],
   "source": [
    "tfd = tfp.distributions"
   ]
  },
  {
   "cell_type": "markdown",
   "metadata": {},
   "source": [
    "### 1.1 Caso discreto"
   ]
  },
  {
   "cell_type": "code",
   "execution_count": null,
   "metadata": {},
   "outputs": [],
   "source": [
    "model = tf.keras.Sequential([\n",
    "    tf.keras.layers.Dense(32, input_shape=(5,), activation=\"relu\"),\n",
    "    tf.keras.layers.Dense(32, activation=\"relu\"),\n",
    "    tf.keras.layers.Dense(3),\n",
    "    tfp.layers.DistributionLambda(lambda t: tfd.Categorical(logits=t))\n",
    "])"
   ]
  },
  {
   "cell_type": "code",
   "execution_count": null,
   "metadata": {},
   "outputs": [],
   "source": [
    "inputs = tf.random.normal(shape=(10, 5))\n",
    "print(inputs)"
   ]
  },
  {
   "cell_type": "code",
   "execution_count": null,
   "metadata": {},
   "outputs": [],
   "source": [
    "dist = model(inputs)\n",
    "print(dist)"
   ]
  },
  {
   "cell_type": "code",
   "execution_count": null,
   "metadata": {},
   "outputs": [],
   "source": [
    "sample = dist.sample()\n",
    "print(sample)"
   ]
  },
  {
   "cell_type": "code",
   "execution_count": null,
   "metadata": {},
   "outputs": [],
   "source": [
    "sample_log_prob = dist.log_prob(sample)\n",
    "print(sample_log_prob)"
   ]
  },
  {
   "cell_type": "code",
   "execution_count": null,
   "metadata": {},
   "outputs": [],
   "source": [
    "def build_discrete_policy(obs_space, action_space, hidden_layers, activation=\"relu\"):\n",
    "    Input = tf.keras.Input\n",
    "    Dense = tf.keras.layers.Dense\n",
    "    DistributionLambda = tfp.layers.DistributionLambda\n",
    "    Categorical = tfd.Categorical\n",
    "    \n",
    "    policy_net_layers = []\n",
    "\n",
    "    policy_net_layers.append(Input(shape=obs_space.shape, name=\"State\"))\n",
    "\n",
    "    for i, units in enumerate(hidden_layers):\n",
    "        policy_net_layers.append(Dense(units=units, activation=activation, name=f\"Hidden{i+1}\"))\n",
    "    \n",
    "    policy_net_layers.append(Dense(units=action_space.n, name=\"Logits\"))\n",
    "    policy_net_layers.append(DistributionLambda(lambda t: Categorical(logits=t), name=\"Action_Distribution_Categorical\"))\n",
    "                                     \n",
    "    return tf.keras.Sequential(policy_net_layers)\n"
   ]
  },
  {
   "cell_type": "code",
   "execution_count": null,
   "metadata": {},
   "outputs": [],
   "source": [
    "env = gym.make(\"MountainCar-v0\")\n",
    "\n",
    "hidden_layers = [64, 64]\n",
    "activation = \"relu\"\n",
    "\n",
    "policy = build_discrete_policy(env.observation_space, env.action_space, hidden_layers, activation)\n",
    "\n",
    "obs = env.observation_space.sample()\n",
    "\n",
    "action_dist = policy(obs[None,:])\n",
    "print(action_dist)\n",
    "print(action_dist.sample())\n",
    "\n",
    "pi = policy.predict(obs[None,:])\n",
    "print(pi)\n",
    "assert pi[0] in env.action_space\n",
    "\n",
    "action = action_dist.sample().numpy()\n",
    "assert action[0] in env.action_space"
   ]
  },
  {
   "cell_type": "code",
   "execution_count": null,
   "metadata": {},
   "outputs": [],
   "source": [
    "!pip3 install pydot graphviz\n",
    "import pydot"
   ]
  },
  {
   "cell_type": "code",
   "execution_count": null,
   "metadata": {},
   "outputs": [],
   "source": [
    "tf.keras.utils.plot_model(policy, show_shapes=True)"
   ]
  },
  {
   "cell_type": "markdown",
   "metadata": {},
   "source": [
    "### 1.2 Caso contínuo "
   ]
  },
  {
   "cell_type": "code",
   "execution_count": null,
   "metadata": {},
   "outputs": [],
   "source": [
    "model = tf.keras.Sequential([\n",
    "    tf.keras.layers.Dense(128, activation=\"tanh\", input_shape=(10,)),\n",
    "    tf.keras.layers.Dense(128, activation=\"tanh\"),\n",
    "    tf.keras.layers.Dense(10),\n",
    "    tfp.layers.DistributionLambda(lambda t: tfd.MultivariateNormalDiag(loc=t, scale_diag=[1e-2] * 10))\n",
    "])"
   ]
  },
  {
   "cell_type": "code",
   "execution_count": null,
   "metadata": {},
   "outputs": [],
   "source": [
    "inputs = tf.random.normal(shape=(4, 10))\n",
    "print(inputs)"
   ]
  },
  {
   "cell_type": "code",
   "execution_count": null,
   "metadata": {},
   "outputs": [],
   "source": [
    "dist = model(inputs)\n",
    "print(dist)"
   ]
  },
  {
   "cell_type": "code",
   "execution_count": null,
   "metadata": {},
   "outputs": [],
   "source": [
    "sample = dist.sample()\n",
    "print(sample)"
   ]
  },
  {
   "cell_type": "code",
   "execution_count": null,
   "metadata": {},
   "outputs": [],
   "source": [
    "sample_log_prob = dist.log_prob(sample)\n",
    "print(sample_log_prob)"
   ]
  },
  {
   "cell_type": "code",
   "execution_count": null,
   "metadata": {},
   "outputs": [],
   "source": [
    "def build_continuous_policy(obs_space, action_space, hidden_layers, activation=\"relu\", scale_diag=1e-2):\n",
    "    Input = tf.keras.Input\n",
    "    Dense = tf.keras.layers.Dense\n",
    "    DistributionLambda = tfp.layers.DistributionLambda\n",
    "    MultivariateNormalDiag = tfd.MultivariateNormalDiag\n",
    "    \n",
    "    policy_net_layers = []\n",
    "    \n",
    "    policy_net_layers.append(Input(shape=obs_space.shape, name=\"State\"))\n",
    "\n",
    "    for i, units in enumerate(hidden_layers):\n",
    "        policy_net_layers.append(Dense(units=units, activation=activation, name=f\"Hidden{i+1}\"))\n",
    "\n",
    "    policy_net_layers.append(Dense(units=action_space.shape[0], name=\"Params\"))\n",
    "    policy_net_layers.append(DistributionLambda(\n",
    "        lambda t: MultivariateNormalDiag(loc=t, scale_diag=[scale_diag] * action_space.shape[0]),\n",
    "        name=\"Action_Distribution_Gaussian\"\n",
    "    ))\n",
    "                                     \n",
    "    return tf.keras.Sequential(policy_net_layers)"
   ]
  },
  {
   "cell_type": "code",
   "execution_count": null,
   "metadata": {},
   "outputs": [],
   "source": [
    "env = gym.make(\"MountainCarContinuous-v0\")\n",
    "\n",
    "hidden_layers = [32, 32, 32]\n",
    "activation = \"elu\"\n",
    "\n",
    "policy = build_continuous_policy(env.observation_space, env.action_space, hidden_layers, activation)\n",
    "\n",
    "batch_size = 10\n",
    "obs = np.array([env.observation_space.sample() for _ in range(batch_size)])\n",
    "print(obs.shape)\n",
    "\n",
    "action_dist = policy(obs)\n",
    "print(action_dist)\n",
    "\n",
    "# action = policy.predict(env.observation_space.sample()[None,:])\n",
    "# print(action)\n",
    "# assert action in env.action_space\n",
    "# print(action_dist.sample())\n",
    "\n",
    "action = action_dist.sample().numpy()\n",
    "assert action[0] in env.action_space"
   ]
  },
  {
   "cell_type": "code",
   "execution_count": null,
   "metadata": {},
   "outputs": [],
   "source": [
    "tf.keras.utils.plot_model(policy, show_shapes=True)"
   ]
  },
  {
   "cell_type": "markdown",
   "metadata": {},
   "source": [
    "## 2. Agente REINFORCE"
   ]
  },
  {
   "cell_type": "code",
   "execution_count": null,
   "metadata": {},
   "outputs": [],
   "source": [
    "env = gym.make(\"MountainCarContinuous-v0\")"
   ]
  },
  {
   "cell_type": "markdown",
   "metadata": {},
   "source": [
    "### 2.1 Calculando retornos de episódios\n",
    "\n",
    "$$\n",
    "\\hat{R}_t = \\sum_{t'=t}^T r_{t'}\n",
    "$$"
   ]
  },
  {
   "cell_type": "code",
   "execution_count": null,
   "metadata": {},
   "outputs": [],
   "source": [
    "def compute_returns(rewards):\n",
    "    n_episodes = len(rewards)\n",
    "\n",
    "    returns = []\n",
    "\n",
    "    for episode in range(n_episodes):\n",
    "        episode_returns = []\n",
    "        total_reward = 0.0\n",
    "\n",
    "        for i in range(len(rewards[episode]) - 1, -1, -1):\n",
    "            reward = rewards[episode][i]\n",
    "            total_reward += reward\n",
    "            episode_returns.append(total_reward)\n",
    "        \n",
    "        episode_returns = episode_returns[::-1]\n",
    "        returns.append(episode_returns)\n",
    "\n",
    "    return np.array(returns)[...,None]"
   ]
  },
  {
   "cell_type": "code",
   "execution_count": null,
   "metadata": {},
   "outputs": [],
   "source": [
    "n_episodes, batch_size = 32, 20\n",
    "rewards = np.random.uniform(size=[n_episodes, batch_size])\n",
    "\n",
    "returns = compute_returns(rewards)\n",
    "print(returns.shape)\n",
    "\n",
    "assert len(returns) == n_episodes\n",
    "assert returns.shape[-1] == 1\n",
    "assert all(np.allclose(np.cumsum(rewards[i][::-1])[::-1][...,None], returns[i]) for i in range(n_episodes))"
   ]
  },
  {
   "cell_type": "markdown",
   "metadata": {},
   "source": [
    "### 2.2 Implementação do *surrogate loss*: combinando log-prob e retornos \n",
    "\n",
    "$$\n",
    "\\nabla_\\theta J(\\theta) = \\mathbb{E}_{\\tau \\sim \\pi_\\theta} \\left [ \\sum_{t=0}^T \\nabla_\\theta \\log \\pi_\\theta(\\mathbf{a}_t|\\mathbf{s}_t) \\hat{R}_t\\right ]\n",
    "$$"
   ]
  },
  {
   "cell_type": "code",
   "execution_count": null,
   "metadata": {},
   "outputs": [],
   "source": [
    "class REINFORCE(RLAgent):\n",
    "    \n",
    "    def __init__(self, obs_space, action_space, config=None):\n",
    "        super(REINFORCE, self).__init__(obs_space, action_space, config)\n",
    "        \n",
    "        self._build_memory()\n",
    "        self._build_policy()\n",
    "        self._build_optimizer()\n",
    "        \n",
    "    def _build_memory(self):\n",
    "        self.memory = OnPolicyReplay()\n",
    "        \n",
    "    def _build_policy(self):\n",
    "        if isinstance(self.action_space, gym.spaces.discrete.Discrete):\n",
    "            self.policy = build_discrete_policy(self.obs_space, self.action_space, config[\"hidden_layers\"], config[\"activation\"])\n",
    "        else:\n",
    "            self.policy = build_continuous_policy(self.obs_space, self.action_space, config[\"hidden_layers\"], config[\"activation\"])\n",
    "\n",
    "    def _build_optimizer(self):\n",
    "        self.optimizer = tf.keras.optimizers.Adam()\n",
    "\n",
    "    @tf.function\n",
    "    def act(self, obs):\n",
    "        action_dist = self.policy(obs[None,:])\n",
    "        return action_dist.sample()[0]\n",
    "\n",
    "    def observe(self, obs, action, reward, next_obs, done):\n",
    "        self.memory.update(obs, action, reward, next_obs, done)\n",
    "\n",
    "    def learn(self):\n",
    "        batch = self.memory.sample()\n",
    "\n",
    "        with tf.GradientTape() as tape:\n",
    "            loss = self._loss_fn(batch)\n",
    "\n",
    "        gradients = tape.gradient(loss, self.policy.trainable_weights)\n",
    "        self.optimizer.apply_gradients(zip(gradients, self.policy.trainable_weights))\n",
    "        \n",
    "        return loss\n",
    "    \n",
    "    def _loss_fn(self, batch):\n",
    "        states, actions, rewards = batch[\"states\"], batch[\"actions\"], batch[\"rewards\"]\n",
    "        returns = compute_returns(rewards)\n",
    "        \n",
    "        n_episodes = len(states)\n",
    "\n",
    "        loss = 0.0\n",
    "        for episode in range(n_episodes):\n",
    "            action_dist = self.policy(states[episode])\n",
    "            log_prob = action_dist.log_prob(actions[episode])[...,None]\n",
    "            loss += - tf.reduce_sum(log_prob * returns[episode])\n",
    "\n",
    "        loss /= n_episodes\n",
    "            \n",
    "        return loss"
   ]
  },
  {
   "cell_type": "code",
   "execution_count": null,
   "metadata": {},
   "outputs": [],
   "source": [
    "config = {\n",
    "    \"hidden_layers\": [32, 32],\n",
    "    \"activation\": \"relu\"\n",
    "}\n",
    "\n",
    "agent = REINFORCE(env.observation_space, env.action_space, config=config)"
   ]
  },
  {
   "cell_type": "code",
   "execution_count": null,
   "metadata": {},
   "outputs": [],
   "source": [
    "n_episodes = 10\n",
    "\n",
    "for episode in range(n_episodes):\n",
    "    total_reward = 0.0\n",
    "    episode_length = 0\n",
    "\n",
    "    obs = env.reset()\n",
    "\n",
    "    while True:\n",
    "        action = agent.act(obs)\n",
    "        next_obs, reward, done, _  = env.step(action)\n",
    "        agent.observe(obs, action, reward, next_obs, done)\n",
    "    \n",
    "        total_reward += reward\n",
    "        episode_length += 1\n",
    "\n",
    "        next_obs = obs\n",
    "        \n",
    "        if done:\n",
    "            break\n",
    "    \n",
    "    loss = agent.learn()\n",
    "\n",
    "    print(f\"episode = {episode:3d} -> loss = {loss:10.4f}, total_reward = {total_reward:10.4f}, episode_length = {episode_length:3d}\")"
   ]
  },
  {
   "cell_type": "markdown",
   "metadata": {},
   "source": [
    "## 3. Treinamento do agente"
   ]
  },
  {
   "cell_type": "code",
   "execution_count": null,
   "metadata": {},
   "outputs": [],
   "source": []
  },
  {
   "cell_type": "markdown",
   "metadata": {},
   "source": [
    "## 4. Experimentos "
   ]
  },
  {
   "cell_type": "code",
   "execution_count": null,
   "metadata": {},
   "outputs": [],
   "source": []
  }
 ],
 "metadata": {
  "kernelspec": {
   "display_name": "Python 3",
   "language": "python",
   "name": "python3"
  },
  "language_info": {
   "codemirror_mode": {
    "name": "ipython",
    "version": 3
   },
   "file_extension": ".py",
   "mimetype": "text/x-python",
   "name": "python",
   "nbconvert_exporter": "python",
   "pygments_lexer": "ipython3",
   "version": "3.6.9"
  }
 },
 "nbformat": 4,
 "nbformat_minor": 4
}
