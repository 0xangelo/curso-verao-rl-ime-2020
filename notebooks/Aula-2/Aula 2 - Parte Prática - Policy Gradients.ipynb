{
 "cells": [
  {
   "cell_type": "markdown",
   "metadata": {},
   "source": [
    "# Aula 2 - Parte Prática - Policy Gradients "
   ]
  },
  {
   "cell_type": "markdown",
   "metadata": {},
   "source": [
    "## Introdução\n",
    "\n",
    "Nesse segundo notebook vamos aprender ...\n",
    "\n",
    "### Objetivos:\n",
    "\n",
    "- Entender a abordagem de otimização de políticas como busca no espaço de parâmetros da política\n",
    "- Implementar um primeiro agente baseado no algoritmo REINFORCE\n",
    "- Familiarizar-se com a API básica de construção de modelos (i.e., redes neurais) em Keras\n",
    "- Familiarizar-se com métodos de Deep Learning usando TensorFlow 2.X"
   ]
  },
  {
   "cell_type": "markdown",
   "metadata": {},
   "source": [
    "### Imports\n",
    "\n",
    "> **Atenção:** não se esqueça de executar todos os `imports` necessários antes prosseguir com o tutorial."
   ]
  },
  {
   "cell_type": "code",
   "execution_count": 1,
   "metadata": {},
   "outputs": [],
   "source": [
    "import gym\n",
    "import numpy as np\n",
    "import tensorflow as tf\n",
    "import tensorflow_probability as tfp\n",
    "\n",
    "from utils.memory import OnPolicyReplay"
   ]
  },
  {
   "cell_type": "code",
   "execution_count": 2,
   "metadata": {},
   "outputs": [],
   "source": [
    "# sanity check\n",
    "assert tf.__version__ == '2.1.0'\n",
    "assert tf.executing_eagerly()"
   ]
  },
  {
   "cell_type": "markdown",
   "metadata": {},
   "source": [
    "## 1. Implementando políticas estocásticas em tf.Keras "
   ]
  },
  {
   "cell_type": "code",
   "execution_count": 3,
   "metadata": {},
   "outputs": [],
   "source": [
    "tfd = tfp.distributions"
   ]
  },
  {
   "cell_type": "markdown",
   "metadata": {},
   "source": [
    "### 1.1 Caso discreto"
   ]
  },
  {
   "cell_type": "code",
   "execution_count": 4,
   "metadata": {},
   "outputs": [],
   "source": [
    "model = tf.keras.Sequential([\n",
    "    tf.keras.layers.Dense(32, input_shape=(5,), activation=\"relu\"),\n",
    "    tf.keras.layers.Dense(32, activation=\"relu\"),\n",
    "    tf.keras.layers.Dense(3),\n",
    "    tfp.layers.DistributionLambda(lambda t: tfd.Categorical(logits=t))\n",
    "])"
   ]
  },
  {
   "cell_type": "code",
   "execution_count": 5,
   "metadata": {},
   "outputs": [
    {
     "name": "stdout",
     "output_type": "stream",
     "text": [
      "tf.Tensor(\n",
      "[[-0.38117597  0.67415327 -0.7539969  -0.9630399  -1.123436  ]\n",
      " [-0.02243149 -1.4392524   0.5073562  -0.40109003  0.5556543 ]\n",
      " [-0.48144257  0.43146038 -0.8288045  -1.274146   -0.77778256]\n",
      " [-0.58085376 -0.02389099  0.09542119 -1.7419342   1.4345952 ]\n",
      " [-0.617048    0.34856266  0.388757   -0.13467874 -0.878634  ]\n",
      " [-1.0132031  -1.0451635  -0.5513928  -0.6848802  -0.1826988 ]\n",
      " [ 1.4384787   1.1670514   0.53341234 -1.3166772   0.35310978]\n",
      " [ 0.30137643  1.2014254  -0.05963652 -0.4559122   0.00213528]\n",
      " [ 1.199887   -1.0257902  -1.0454237   0.44551042  1.2113535 ]\n",
      " [-0.9662131  -1.1385068  -0.8423603  -0.94637465  0.25711676]], shape=(10, 5), dtype=float32)\n"
     ]
    }
   ],
   "source": [
    "inputs = tf.random.normal(shape=(10, 5))\n",
    "print(inputs)"
   ]
  },
  {
   "cell_type": "code",
   "execution_count": 6,
   "metadata": {},
   "outputs": [
    {
     "name": "stdout",
     "output_type": "stream",
     "text": [
      "tfp.distributions.Categorical(\"sequential_distribution_lambda_Categorical\", batch_shape=[10], event_shape=[], dtype=int32)\n"
     ]
    }
   ],
   "source": [
    "dist = model(inputs)\n",
    "print(dist)"
   ]
  },
  {
   "cell_type": "code",
   "execution_count": 7,
   "metadata": {},
   "outputs": [
    {
     "name": "stdout",
     "output_type": "stream",
     "text": [
      "tf.Tensor([0 0 1 0 0 0 0 0 0 2], shape=(10,), dtype=int32)\n"
     ]
    }
   ],
   "source": [
    "sample = dist.sample()\n",
    "print(sample)"
   ]
  },
  {
   "cell_type": "code",
   "execution_count": 8,
   "metadata": {},
   "outputs": [
    {
     "name": "stdout",
     "output_type": "stream",
     "text": [
      "tf.Tensor(\n",
      "[-0.94422626 -1.1742859  -1.2091149  -0.9334638  -0.96630484 -0.91994655\n",
      " -0.8061617  -1.0398461  -0.8889093  -0.9823012 ], shape=(10,), dtype=float32)\n"
     ]
    }
   ],
   "source": [
    "sample_log_prob = dist.log_prob(sample)\n",
    "print(sample_log_prob)"
   ]
  },
  {
   "cell_type": "code",
   "execution_count": 9,
   "metadata": {},
   "outputs": [],
   "source": [
    "def build_discrete_policy(obs_space, action_space, hidden_layers, activation=\"relu\"):\n",
    "    Input = tf.keras.Input\n",
    "    Dense = tf.keras.layers.Dense\n",
    "    DistributionLambda = tfp.layers.DistributionLambda\n",
    "    Categorical = tfd.Categorical\n",
    "    \n",
    "    policy_net_layers = []\n",
    "\n",
    "    policy_net_layers.append(Input(shape=obs_space.shape, name=\"Input\"))\n",
    "\n",
    "    for i, units in enumerate(hidden_layers):\n",
    "        policy_net_layers.append(Dense(units=units, activation=activation, name=f\"Hidden{i+1}\"))\n",
    "    \n",
    "    policy_net_layers.append(Dense(units=action_space.n, name=\"Logits\"))\n",
    "    policy_net_layers.append(DistributionLambda(lambda t: Categorical(logits=t), name=\"Categorical\"))\n",
    "                                     \n",
    "    return tf.keras.Sequential(policy_net_layers)\n"
   ]
  },
  {
   "cell_type": "code",
   "execution_count": 10,
   "metadata": {},
   "outputs": [
    {
     "name": "stdout",
     "output_type": "stream",
     "text": [
      "tfp.distributions.Categorical(\"sequential_1_Categorical_Categorical\", batch_shape=[1], event_shape=[], dtype=int32)\n"
     ]
    }
   ],
   "source": [
    "env = gym.make(\"MountainCar-v0\")\n",
    "\n",
    "hidden_layers = [64, 64]\n",
    "activation = \"relu\"\n",
    "\n",
    "policy = build_discrete_policy(env.observation_space, env.action_space, hidden_layers, activation)\n",
    "\n",
    "obs = env.observation_space.sample()\n",
    "\n",
    "action_dist = policy(obs[None,:])\n",
    "print(action_dist)\n",
    "\n",
    "action = action_dist.sample().numpy()\n",
    "assert action[0] in env.action_space"
   ]
  },
  {
   "cell_type": "code",
   "execution_count": 11,
   "metadata": {},
   "outputs": [
    {
     "name": "stdout",
     "output_type": "stream",
     "text": [
      "Requirement already satisfied: pydot in /home/tbueno/Projects/curso-verao-rl-ime-2020/lib/python3.6/site-packages (1.4.1)\n",
      "Requirement already satisfied: graphviz in /home/tbueno/Projects/curso-verao-rl-ime-2020/lib/python3.6/site-packages (0.13.2)\n",
      "Requirement already satisfied: pyparsing>=2.1.4 in /home/tbueno/Projects/curso-verao-rl-ime-2020/lib/python3.6/site-packages (from pydot) (2.4.6)\n"
     ]
    }
   ],
   "source": [
    "!pip3 install pydot graphviz\n",
    "import pydot"
   ]
  },
  {
   "cell_type": "code",
   "execution_count": 12,
   "metadata": {},
   "outputs": [
    {
     "data": {
      "image/png": "[encoded data removed]",
      "text/plain": [
       "<IPython.core.display.Image object>"
      ]
     },
     "execution_count": 12,
     "metadata": {},
     "output_type": "execute_result"
    }
   ],
   "source": [
    "tf.keras.utils.plot_model(policy, show_shapes=True)"
   ]
  },
  {
   "cell_type": "markdown",
   "metadata": {},
   "source": [
    "### 1.2 Caso contínuo "
   ]
  },
  {
   "cell_type": "code",
   "execution_count": 13,
   "metadata": {},
   "outputs": [
    {
     "name": "stdout",
     "output_type": "stream",
     "text": [
      "WARNING:tensorflow:From /home/tbueno/Projects/curso-verao-rl-ime-2020/lib/python3.6/site-packages/tensorflow_core/python/ops/linalg/linear_operator_diag.py:166: calling LinearOperator.__init__ (from tensorflow.python.ops.linalg.linear_operator) with graph_parents is deprecated and will be removed in a future version.\n",
      "Instructions for updating:\n",
      "Do not pass `graph_parents`.  They will  no longer be used.\n"
     ]
    }
   ],
   "source": [
    "model = tf.keras.Sequential([\n",
    "    tf.keras.layers.Dense(128, activation=\"tanh\", input_shape=(10,)),\n",
    "    tf.keras.layers.Dense(128, activation=\"tanh\"),\n",
    "    tf.keras.layers.Dense(10),\n",
    "    tfp.layers.DistributionLambda(lambda t: tfd.MultivariateNormalDiag(loc=t, scale_diag=[1e-2] * 10))\n",
    "])"
   ]
  },
  {
   "cell_type": "code",
   "execution_count": 14,
   "metadata": {},
   "outputs": [
    {
     "name": "stdout",
     "output_type": "stream",
     "text": [
      "tf.Tensor(\n",
      "[[-0.48297957  0.39565054 -0.13180265  0.15864636 -1.022307   -0.7262729\n",
      "   0.4852487   0.9155715   1.3631878   0.22315325]\n",
      " [ 0.3463776   0.65311915 -0.4067139  -1.1105392   0.8124608   0.88023186\n",
      "   1.5679476   0.7566002   2.33942    -2.3304272 ]\n",
      " [ 0.22862619  0.29199752 -0.5528668   0.8849869  -0.45011437  0.6304047\n",
      "  -0.6618974   0.7920512  -0.7272325  -1.1838597 ]\n",
      " [ 0.90224713  0.6715434  -1.8042321   0.23280478  0.958096   -0.92791104\n",
      "  -0.740342   -0.10301289  0.4112148   0.24718492]], shape=(4, 10), dtype=float32)\n"
     ]
    }
   ],
   "source": [
    "inputs = tf.random.normal(shape=(4, 10))\n",
    "print(inputs)"
   ]
  },
  {
   "cell_type": "code",
   "execution_count": 15,
   "metadata": {},
   "outputs": [
    {
     "name": "stdout",
     "output_type": "stream",
     "text": [
      "tfp.distributions.MultivariateNormalDiag(\"sequential_2_distribution_lambda_1_MultivariateNormalDiag\", batch_shape=[4], event_shape=[10], dtype=float32)\n"
     ]
    }
   ],
   "source": [
    "dist = model(inputs)\n",
    "print(dist)"
   ]
  },
  {
   "cell_type": "code",
   "execution_count": 16,
   "metadata": {},
   "outputs": [
    {
     "name": "stdout",
     "output_type": "stream",
     "text": [
      "tf.Tensor(\n",
      "[[-0.09182841 -0.88546044  0.25922665  0.11051325  0.1286054   0.39434695\n",
      "   0.06973037 -0.18844903 -0.19004424 -0.196487  ]\n",
      " [-0.28904453 -0.8687308   0.38428316 -0.24818115  0.45680872  0.5223647\n",
      "   0.0760092   0.48077393  1.2401497  -0.06695284]\n",
      " [ 0.1585551   0.5244401  -0.13707007  0.02476116 -0.43609387 -0.02491118\n",
      "  -0.63263327  0.11772902  0.01703276  0.2572209 ]\n",
      " [-0.3699251   0.01731236  0.48223862  0.02565642 -0.07981469  0.11122942\n",
      "   0.07042368  0.4726179   0.22646295  0.6188859 ]], shape=(4, 10), dtype=float32)\n"
     ]
    }
   ],
   "source": [
    "sample = dist.sample()\n",
    "print(sample)"
   ]
  },
  {
   "cell_type": "code",
   "execution_count": 17,
   "metadata": {},
   "outputs": [
    {
     "name": "stdout",
     "output_type": "stream",
     "text": [
      "tf.Tensor([32.44487  35.133545 32.647236 30.428852], shape=(4,), dtype=float32)\n"
     ]
    }
   ],
   "source": [
    "sample_log_prob = dist.log_prob(sample)\n",
    "print(sample_log_prob)"
   ]
  },
  {
   "cell_type": "code",
   "execution_count": 18,
   "metadata": {},
   "outputs": [],
   "source": [
    "def build_continuous_policy(obs_space, action_space, hidden_layers, activation=\"relu\", scale_diag=1e-2):\n",
    "    Input = tf.keras.Input\n",
    "    Dense = tf.keras.layers.Dense\n",
    "    DistributionLambda = tfp.layers.DistributionLambda\n",
    "    MultivariateNormalDiag = tfd.MultivariateNormalDiag\n",
    "    \n",
    "    policy_net_layers = []\n",
    "    \n",
    "    policy_net_layers.append(Input(shape=obs_space.shape, name=\"Input\"))\n",
    "\n",
    "    for i, units in enumerate(hidden_layers):\n",
    "        policy_net_layers.append(Dense(units=units, activation=activation, name=f\"Hidden{i+1}\"))\n",
    "\n",
    "    policy_net_layers.append(Dense(units=action_space.shape[0], name=\"Params\"))\n",
    "    policy_net_layers.append(DistributionLambda(\n",
    "        lambda t: MultivariateNormalDiag(loc=t, scale_diag=[scale_diag] * action_space.shape[0]),\n",
    "        name=\"Gaussian\"\n",
    "    ))\n",
    "                                     \n",
    "    return tf.keras.Sequential(policy_net_layers)"
   ]
  },
  {
   "cell_type": "code",
   "execution_count": 19,
   "metadata": {},
   "outputs": [
    {
     "name": "stdout",
     "output_type": "stream",
     "text": [
      "tfp.distributions.MultivariateNormalDiag(\"sequential_3_Gaussian_MultivariateNormalDiag\", batch_shape=[1], event_shape=[1], dtype=float32)\n"
     ]
    }
   ],
   "source": [
    "env = gym.make(\"MountainCarContinuous-v0\")\n",
    "\n",
    "hidden_layers = [32, 32, 32]\n",
    "activation = \"elu\"\n",
    "\n",
    "policy = build_continuous_policy(env.observation_space, env.action_space, hidden_layers, activation)\n",
    "\n",
    "obs = env.observation_space.sample()\n",
    "\n",
    "action_dist = policy(obs[None,:])\n",
    "print(action_dist)\n",
    "\n",
    "action = action_dist.sample().numpy()\n",
    "assert action[0] in env.action_space"
   ]
  },
  {
   "cell_type": "code",
   "execution_count": 20,
   "metadata": {},
   "outputs": [
    {
     "data": {
      "image/png": "[encoded data removed]",
      "text/plain": [
       "<IPython.core.display.Image object>"
      ]
     },
     "execution_count": 20,
     "metadata": {},
     "output_type": "execute_result"
    }
   ],
   "source": [
    "tf.keras.utils.plot_model(policy, show_shapes=True)"
   ]
  },
  {
   "cell_type": "markdown",
   "metadata": {},
   "source": [
    "## 2. Função objetivo em Policy Gradients (*surrogate loss*) "
   ]
  },
  {
   "cell_type": "code",
   "execution_count": 21,
   "metadata": {},
   "outputs": [],
   "source": [
    "env = gym.make(\"MountainCarContinuous-v0\")\n",
    "\n",
    "memory = OnPolicyReplay()\n",
    "\n",
    "total_experiences = 0\n",
    "n_episodes = 5\n",
    "total_rewards = []\n",
    "\n",
    "for _ in range(n_episodes):\n",
    "    total_reward = 0.0\n",
    "    obs = env.reset()\n",
    "    while True:\n",
    "        action = env.action_space.sample()\n",
    "        next_obs, reward, done, _ = env.step(action)\n",
    "        memory.update(obs, action, reward, next_obs, done)\n",
    "        total_reward += reward\n",
    "        next_obs = obs\n",
    "        if done:\n",
    "            total_rewards.append(total_reward)\n",
    "            break\n",
    "\n",
    "batch = memory.sample()"
   ]
  },
  {
   "cell_type": "markdown",
   "metadata": {},
   "source": [
    "### 2.1 Calculando log-prob da escolha da ação "
   ]
  },
  {
   "cell_type": "code",
   "execution_count": 22,
   "metadata": {},
   "outputs": [],
   "source": [
    "def compute_log_probs(batch, policy):\n",
    "    states, actions = batch[\"states\"], batch[\"actions\"]\n",
    "    n_episodes = len(states)\n",
    "    \n",
    "    log_probs = []\n",
    "    for episode in range(n_episodes):\n",
    "        states_ = tf.constant(states[episode], dtype=tf.float32)\n",
    "        actions_ = tf.constant(actions[episode], dtype=tf.float32)\n",
    "        action_dist = policy(states_)\n",
    "        log_probs.append(action_dist.log_prob(actions_))\n",
    "        \n",
    "    return np.array(log_probs)"
   ]
  },
  {
   "cell_type": "code",
   "execution_count": 23,
   "metadata": {},
   "outputs": [
    {
     "name": "stdout",
     "output_type": "stream",
     "text": [
      "(5, 999)\n"
     ]
    }
   ],
   "source": [
    "log_probs = compute_log_probs(batch, policy)\n",
    "print(log_probs.shape)"
   ]
  },
  {
   "cell_type": "markdown",
   "metadata": {},
   "source": [
    "### 2.2 Calculando retornos de episódios\n",
    "\n",
    "$$\n",
    "\\hat{R}_t = \\sum_{t'=t}^T r_{t'}\n",
    "$$"
   ]
  },
  {
   "cell_type": "code",
   "execution_count": 24,
   "metadata": {},
   "outputs": [],
   "source": [
    "def compute_returns(batch):\n",
    "    rewards = batch[\"rewards\"]\n",
    "    n_episodes = len(rewards)\n",
    "\n",
    "    returns = []\n",
    "\n",
    "    for episode in range(n_episodes):\n",
    "        episode_returns = []\n",
    "        total_reward = 0.0\n",
    "\n",
    "        for i in range(len(rewards[episode]) - 1, -1, -1):\n",
    "            reward = rewards[episode][i]\n",
    "            total_reward += reward\n",
    "            episode_returns.append(total_reward)\n",
    "        \n",
    "        episode_returns = episode_returns[::-1]\n",
    "        returns.append(episode_returns)\n",
    "\n",
    "    return np.array(returns)"
   ]
  },
  {
   "cell_type": "code",
   "execution_count": 25,
   "metadata": {},
   "outputs": [
    {
     "name": "stdout",
     "output_type": "stream",
     "text": [
      "(5, 999)\n"
     ]
    }
   ],
   "source": [
    "returns = compute_returns(batch)\n",
    "print(returns.shape)\n",
    "\n",
    "assert len(returns) == n_episodes\n",
    "assert all(np.allclose(returns[i][0], total_rewards[i]) for i in range(n_episodes))\n",
    "assert all(np.allclose(np.cumsum(batch[\"rewards\"][i][::-1])[::-1], returns[i]) for i in range(n_episodes))"
   ]
  },
  {
   "cell_type": "markdown",
   "metadata": {},
   "source": [
    "### 2.3 Implementação do *surrogate loss*: combinando log-prob e retornos "
   ]
  },
  {
   "cell_type": "markdown",
   "metadata": {},
   "source": [
    "## 3. Agente REINFORCE "
   ]
  },
  {
   "cell_type": "code",
   "execution_count": null,
   "metadata": {},
   "outputs": [],
   "source": []
  },
  {
   "cell_type": "markdown",
   "metadata": {},
   "source": [
    "## 4. Treinamento do agente"
   ]
  },
  {
   "cell_type": "code",
   "execution_count": null,
   "metadata": {},
   "outputs": [],
   "source": []
  },
  {
   "cell_type": "markdown",
   "metadata": {},
   "source": [
    "## 5. Experimentos "
   ]
  },
  {
   "cell_type": "code",
   "execution_count": null,
   "metadata": {},
   "outputs": [],
   "source": []
  }
 ],
 "metadata": {
  "kernelspec": {
   "display_name": "Python 3",
   "language": "python",
   "name": "python3"
  },
  "language_info": {
   "codemirror_mode": {
    "name": "ipython",
    "version": 3
   },
   "file_extension": ".py",
   "mimetype": "text/x-python",
   "name": "python",
   "nbconvert_exporter": "python",
   "pygments_lexer": "ipython3",
   "version": "3.6.9"
  }
 },
 "nbformat": 4,
 "nbformat_minor": 4
}
