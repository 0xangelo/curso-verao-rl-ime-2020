{
 "cells": [
  {
   "cell_type": "markdown",
   "metadata": {},
   "source": [
    "# Aula 1 - Parte Prática - Agentes & Ambientes"
   ]
  },
  {
   "cell_type": "markdown",
   "metadata": {},
   "source": [
    "## Introdução\n",
    "\n",
    "Nesse primeiro notebook iremos aprender sobre a API do [OpenAI Gym](http://gym.openai.com/) e começaremos a implementar alguns componentes de um agente de RL.\n",
    "Ao final dessa parte prática teremos implementado o **ciclo de interação Agente-Ambiente** que nos permitirá futuramente treinar o agente e avaliar sua performance.\n",
    "\n",
    "### Objetivos:\n",
    "\n",
    "- Relacionar os conceitos de Processos de Decisão Markovianos (MDPs) com os atributos e métodos de um ambiente definido com o OpenAI Gym;\n",
    "- Familiarizar-se com os componentes básicos de um agente de RL;\n",
    "- Implementar o ciclo de interação Agente-Ambiente; e\n",
    "- Implementar um primeiro agente aleatório e avaliar sua performance"
   ]
  },
  {
   "cell_type": "markdown",
   "metadata": {},
   "source": [
    "### Imports\n",
    "\n",
    "> **Atenção:** não se esqueça de executar todos os `imports` necessários antes prosseguir com o tutorial. "
   ]
  },
  {
   "cell_type": "code",
   "execution_count": 44,
   "metadata": {},
   "outputs": [],
   "source": [
    "import abc\n",
    "import random\n",
    "\n",
    "import gym\n",
    "\n",
    "from utils.viz import plot_action_distribution, plot_episode_total_rewards"
   ]
  },
  {
   "cell_type": "markdown",
   "metadata": {},
   "source": [
    "## 1. Ambientes no OpenAI Gym\n",
    "\n",
    "Um ambiente no OpenAI Gym encapsula um simulador com o qual um agente pode interagir. Nesse simulador, a cada instante $t$ o agente deve escolhar uma ação $\\mathbf{a}_t \\in \\mathcal{A}$ a ser executada. Ao receber essa ação, o ambiente tem seu estado $\\mathbf{s}_t \\in \\mathcal{S}$ alterado para outro estado $\\mathbf{s}_{t+1} \\in \\mathcal{S}$ e devolve para o agente uma observação (que pode ou não corresponder ao estado) e uma recompensa/punição $r_t \\in \\mathbb{R}$.\n",
    "\n",
    "O pacote Gym conta com inúmeros [ambientes pré-programados](http://gym.openai.com/envs/) e prontos para serem usados para testar algoritmos de RL. Nessa parte prática, começaremos a explorar alguns ambientes mais simples a fim de nos familiarizarmos com os principais conceitos de modelagem da biblioteca Gym."
   ]
  },
  {
   "cell_type": "markdown",
   "metadata": {},
   "source": [
    "Para carregar um ambiente disponível no Gym basta chamar a função `gym.make` passando como argumento o identificador do ambiente:"
   ]
  },
  {
   "cell_type": "code",
   "execution_count": 45,
   "metadata": {},
   "outputs": [],
   "source": [
    "env = gym.make(\"MountainCar-v0\")"
   ]
  },
  {
   "cell_type": "markdown",
   "metadata": {},
   "source": [
    "> **Atenção**: antes de usar um ambiente do Gym com o qual você não está familiarizado pode ser útil ler a sua documentação online.\n",
    "> Para o `MountainCar-v0` acesse o link [http://gym.openai.com/envs/MountainCar-v0/](http://gym.openai.com/envs/MountainCar-v0/)."
   ]
  },
  {
   "cell_type": "markdown",
   "metadata": {},
   "source": [
    "Informações adicionais sobre o ambiente/simulador podem ser obtidas accessando o atributo `env.spec`. Embora não seja obrigatório, muitos ambientes do OpenAI Gym definem  metadados importantes relacionados à tarefa de RL. Em particular, `env.spec.max_episode_steps` define o número máximo de passos de decisão que um agente pode tomar em um episódio (i.e., o tamanho máximo de uma trajetória) e `env.spec.reward_threshold` define o valor mínimo de retorno (i.e., recompensa total) de um episódio para o qual a tarefa é considerada resolvida."
   ]
  },
  {
   "cell_type": "code",
   "execution_count": 46,
   "metadata": {},
   "outputs": [
    {
     "name": "stdout",
     "output_type": "stream",
     "text": [
      "MAX_EPISODE_STEPS = 200\n",
      "REWARD THRESHOLD = -110.0\n"
     ]
    }
   ],
   "source": [
    "print(f\"MAX_EPISODE_STEPS = {env.spec.max_episode_steps}\")\n",
    "print(f\"REWARD THRESHOLD = {env.spec.reward_threshold}\")"
   ]
  },
  {
   "cell_type": "markdown",
   "metadata": {},
   "source": [
    "### 1.1. Espaço de estados e ações\n",
    "\n",
    "Todo agente de RL deve conhecer quais ações pode tomar no ambiente e também quais as características das variáveis de observações que aquele ambiente lhe disponibiliza. Para acessar o espaço de estados e ações, um ambiente do gym disponibiliza os atributos `env.observation_space` e `env.action_space`, respectivamente.\n",
    "\n",
    "Note que essas informações serão importantes futuramente na definição das entradas e saídas das redes neurais artificiais que utilizaremos para representar a política $\\pi_\\theta$ do agente e também na criação de outros modelos.   "
   ]
  },
  {
   "cell_type": "markdown",
   "metadata": {},
   "source": [
    "Todo `observation_space` tem associado seu tipo numérico (e.g., int, float,...) e as dimensões de uma observação. Além disso, é possível saber se o valor das variáveis observação são limitadas ou não, e se forem limitadas qual o valor mínimo e máximo."
   ]
  },
  {
   "cell_type": "code",
   "execution_count": 47,
   "metadata": {},
   "outputs": [
    {
     "name": "stdout",
     "output_type": "stream",
     "text": [
      "float32\n",
      "(2,)\n",
      "[ True  True] [-1.2  -0.07]\n",
      "[ True  True] [0.6  0.07]\n"
     ]
    }
   ],
   "source": [
    "obs_space = env.observation_space\n",
    "\n",
    "print(obs_space.dtype)\n",
    "print(obs_space.shape)\n",
    "print(obs_space.bounded_above, obs_space.low)\n",
    "print(obs_space.bounded_below, obs_space.high)"
   ]
  },
  {
   "cell_type": "markdown",
   "metadata": {},
   "source": [
    "Para o `MountainCarContinuous-v0` note que uma observação correponde a um vetor de números reais de tamanho 2 (i.e., um par de valores em ponto flutuante). Note que a primeira componente do vetor é limitada entre -1.2 e 0.6, e a segunda componente entre -0.07 e 0.07. "
   ]
  },
  {
   "cell_type": "markdown",
   "metadata": {},
   "source": [
    "Analogamente, todo `action_space` tem associado seu tipo numérico e as dimensões de uma ação:"
   ]
  },
  {
   "cell_type": "code",
   "execution_count": 48,
   "metadata": {},
   "outputs": [
    {
     "name": "stdout",
     "output_type": "stream",
     "text": [
      "int64\n",
      "()\n",
      "3\n"
     ]
    }
   ],
   "source": [
    "action_space = env.action_space\n",
    "\n",
    "print(action_space.dtype)\n",
    "print(action_space.shape)\n",
    "print(action_space.n)"
   ]
  },
  {
   "cell_type": "markdown",
   "metadata": {},
   "source": [
    "Note que para o `MountainCar-v0` o agente deverá escolher ações discretas (i.e., representadas por números inteiros). Observe também que o `shape==()` indica que uma ação é dada por um único escalar (e não um vetor como no caso do `observation_space`. Para acessar o número de possíveis valores da ação basta acessar o atributo `action_space.n`."
   ]
  },
  {
   "cell_type": "markdown",
   "metadata": {},
   "source": [
    "> **Atenção**: em algumas situações pode ser interessante ter acesso à amostras de observações e ações. Você pode usar os métodos `env.observation_space.sample()` e `env.action_space.sample()` para gerar aleatoriamente observações e ações direto do ambiente `env`. "
   ]
  },
  {
   "cell_type": "code",
   "execution_count": 49,
   "metadata": {},
   "outputs": [
    {
     "name": "stdout",
     "output_type": "stream",
     "text": [
      "[array([-0.26494658,  0.01483747], dtype=float32), array([-0.12745877,  0.01524209], dtype=float32), array([-0.69368374, -0.02006871], dtype=float32)]\n"
     ]
    }
   ],
   "source": [
    "obs_samples = [env.observation_space.sample() for _ in range(3)]\n",
    "print(obs_samples)"
   ]
  },
  {
   "cell_type": "code",
   "execution_count": 50,
   "metadata": {},
   "outputs": [
    {
     "name": "stdout",
     "output_type": "stream",
     "text": [
      "[1, 1, 0, 0, 2]\n"
     ]
    }
   ],
   "source": [
    "action_samples = [env.action_space.sample() for _ in range(5)]\n",
    "print(action_samples)"
   ]
  },
  {
   "cell_type": "markdown",
   "metadata": {},
   "source": [
    "### 1.2 Interface do Gym: métodos reset, step, render e close\n",
    "\n",
    "Um objeto `env` do Gym fornece 4 métodos principais para interagir com o simulador: \n",
    "1. `reset` permite re-inicialiar o simulador para um de seus estados iniciais;\n",
    "2. `step` se encarrega de executar uma ação no ambiente;\n",
    "3. `render` visualiza graficamente o estado do agente; e\n",
    "4. `close` libera recursos utilizados na simulação (por exemplo fecha a janela de visualização)."
   ]
  },
  {
   "cell_type": "code",
   "execution_count": 51,
   "metadata": {},
   "outputs": [
    {
     "name": "stdout",
     "output_type": "stream",
     "text": [
      "obs 0 = [-0.58980679  0.        ]\n",
      "obs 1 = [-0.50968261  0.        ]\n",
      "obs 2 = [-0.48926999  0.        ]\n",
      "obs 3 = [-0.46957288  0.        ]\n",
      "obs 4 = [-0.43670477  0.        ]\n"
     ]
    }
   ],
   "source": [
    "for i in range(5):\n",
    "    obs = env.reset()\n",
    "    print(f\"obs {i} = {obs}\")"
   ]
  },
  {
   "cell_type": "markdown",
   "metadata": {},
   "source": [
    "Note que a observação do estado inicial muda conforme o método `.reset()` é chamado. Isso se deve ao fato de que o estado inicial é definido como uma variável aleatória regida por uma distribuição inicial."
   ]
  },
  {
   "cell_type": "code",
   "execution_count": 52,
   "metadata": {},
   "outputs": [
    {
     "name": "stdout",
     "output_type": "stream",
     "text": [
      "transition 0 = (1, [-5.06570580e-01 -1.28619302e-04], -1.0)\n",
      "transition 1 = (1, [-5.06826856e-01 -2.56275226e-04], -1.0)\n",
      "transition 2 = (1, [-5.07208867e-01 -3.82011557e-04], -1.0)\n",
      "transition 3 = (0, [-0.50871375 -0.00150489], -1.0)\n",
      "transition 4 = (0, [-0.51133024 -0.00261649], -1.0)\n"
     ]
    }
   ],
   "source": [
    "obs = env.reset()\n",
    "\n",
    "for i in range(5):\n",
    "    action = env.action_space.sample()\n",
    "    obs, reward, done, info = env.step(action)\n",
    "    print(f\"transition {i} = ({action}, {obs}, {reward})\")"
   ]
  },
  {
   "cell_type": "markdown",
   "metadata": {},
   "source": [
    "> **Atenção**: Você pode se familiarizar com os argumentos e retorno de ambos os métodos através de seus *docstrings* acessados via `??`."
   ]
  },
  {
   "cell_type": "code",
   "execution_count": 53,
   "metadata": {},
   "outputs": [
    {
     "data": {
      "text/plain": [
       "\u001b[0;31mSignature:\u001b[0m \u001b[0menv\u001b[0m\u001b[0;34m.\u001b[0m\u001b[0mreset\u001b[0m\u001b[0;34m(\u001b[0m\u001b[0;34m**\u001b[0m\u001b[0mkwargs\u001b[0m\u001b[0;34m)\u001b[0m\u001b[0;34m\u001b[0m\u001b[0;34m\u001b[0m\u001b[0m\n",
       "\u001b[0;31mDocstring:\u001b[0m\n",
       "Resets the state of the environment and returns an initial observation.\n",
       "\n",
       "Returns:\n",
       "    observation (object): the initial observation.\n",
       "\u001b[0;31mFile:\u001b[0m      ~/anaconda3/envs/rlsummer/lib/python3.6/site-packages/gym/wrappers/time_limit.py\n",
       "\u001b[0;31mType:\u001b[0m      method\n"
      ]
     },
     "metadata": {},
     "output_type": "display_data"
    }
   ],
   "source": [
    "env.reset?"
   ]
  },
  {
   "cell_type": "code",
   "execution_count": 54,
   "metadata": {},
   "outputs": [
    {
     "data": {
      "text/plain": [
       "\u001b[0;31mSignature:\u001b[0m \u001b[0menv\u001b[0m\u001b[0;34m.\u001b[0m\u001b[0mstep\u001b[0m\u001b[0;34m(\u001b[0m\u001b[0maction\u001b[0m\u001b[0;34m)\u001b[0m\u001b[0;34m\u001b[0m\u001b[0;34m\u001b[0m\u001b[0m\n",
       "\u001b[0;31mDocstring:\u001b[0m\n",
       "Run one timestep of the environment's dynamics. When end of\n",
       "episode is reached, you are responsible for calling `reset()`\n",
       "to reset this environment's state.\n",
       "\n",
       "Accepts an action and returns a tuple (observation, reward, done, info).\n",
       "\n",
       "Args:\n",
       "    action (object): an action provided by the agent\n",
       "\n",
       "Returns:\n",
       "    observation (object): agent's observation of the current environment\n",
       "    reward (float) : amount of reward returned after previous action\n",
       "    done (bool): whether the episode has ended, in which case further step() calls will return undefined results\n",
       "    info (dict): contains auxiliary diagnostic information (helpful for debugging, and sometimes learning)\n",
       "\u001b[0;31mFile:\u001b[0m      ~/anaconda3/envs/rlsummer/lib/python3.6/site-packages/gym/wrappers/time_limit.py\n",
       "\u001b[0;31mType:\u001b[0m      method\n"
      ]
     },
     "metadata": {},
     "output_type": "display_data"
    }
   ],
   "source": [
    "env.step?"
   ]
  },
  {
   "cell_type": "markdown",
   "metadata": {},
   "source": [
    "## 2. Agentes \n",
    "\n",
    "A fim de permitir a implementação do **ciclo de interação Agente-Ambiente**, um agente de RL deve ser capaz de escolher uma ação para cada observação recebida do ambiente e aprender (i.e., melhorar sua performance) a partir de suas experiências.\n",
    "\n",
    "Nesse contexto, na classe abstrata `RLAgent` definimos a interface geral de um agente de RL. \n",
    "\n",
    "> **Atenção**: Familiarize-se com essa classe; todos os agentes definidos nessa aula e nas próximas deverão especializar (i.e., derivar ou sub-classear) essa interface geral."
   ]
  },
  {
   "cell_type": "code",
   "execution_count": 55,
   "metadata": {},
   "outputs": [],
   "source": [
    "class RLAgent:\n",
    "    \"\"\"\n",
    "    Classe abstrata que define a interface básica de um agente RL.\n",
    "\n",
    "    Args:\n",
    "        obs_space:     especificação do espaço de observações do ambiente.\n",
    "        action_space:  especificação do espaço de ações do ambiente.\n",
    "        config (dict): (opcional) configurações de hiper-parâmetros.\n",
    "    \"\"\"\n",
    "    \n",
    "    __metaclass__ = abc.ABCMeta\n",
    "\n",
    "    def __init__(self, obs_space, action_space, config=None):\n",
    "        self.obs_space = obs_space\n",
    "        self.action_space = action_space\n",
    "        self.config = config\n",
    "\n",
    "    @abc.abstractmethod\n",
    "    def act(self, obs):\n",
    "        \"\"\"\n",
    "        Escolhe uma ação para ser tomada dada uma observação do ambiente.\n",
    "        \n",
    "        Args: \n",
    "            obs: observação do ambiente.\n",
    "        \n",
    "        Return:\n",
    "            action: ação válida dentro do espaço de ações.\n",
    "        \"\"\"\n",
    "        raise NotImplementedError\n",
    "\n",
    "    @abc.abstractmethod\n",
    "    def observe(self, obs, action, reward, next_obs, done):\n",
    "        \"\"\"\n",
    "        Registra na memória do agente uma transição do ambiente.\n",
    "\n",
    "        Args:\n",
    "            obs:            observação do ambiente antes da execução da ação.\n",
    "            action:         ação escolhida pelo agente.\n",
    "            reward (float): escalar indicando a recompensa obtida após a execução da ação.\n",
    "            next_obs:       nova observação recebida do ambiente após a execução da ação.\n",
    "            done (bool):    True se a nova observação corresponde a um estado terminal, False caso contrário.\n",
    "\n",
    "        Return:\n",
    "            None\n",
    "        \"\"\"\n",
    "        raise NotImplementedError\n",
    "\n",
    "    @abc.abstractmethod\n",
    "    def learn(self):\n",
    "        \"\"\"\n",
    "        Método de treinamento do agente. A partir das experiências de sua memória,\n",
    "        o agente aprende um novo comportamento.\n",
    "\n",
    "        Args: \n",
    "            None\n",
    "\n",
    "        Return:\n",
    "            None\n",
    "        \"\"\"     \n",
    "        raise NotImplementedError\n"
   ]
  },
  {
   "cell_type": "markdown",
   "metadata": {},
   "source": [
    "### 2.1 Definindo um agente aleatório\n",
    "\n",
    "Antes de finalmente definir o ciclo de interação agente-ambiente, vamos implementar um agente que escolhe ações aleatórias.\n",
    "\n",
    "O agente `RandomPolicy` tem seu comportamento definido por uma política estocástica dada por uma distribuição uniforme sobre as ações válidas:\n",
    "\n",
    "$$\n",
    "\\mathbf{a}_t \\sim \\pi(\\cdot|\\mathbf{s}) = \\mathcal{Uniform}(\\{ \\mathbf{a} : \\mathbf{a} \\in \\mathcal{A} \\})~.\n",
    "$$\n",
    "\n",
    "Note que nesse ponto do curso, a implementação do agente aleatório é basicamente ilustrativa. No entanto, como veremos nas aulas seguintes, um agente que implementa uma política aleatória tem duas importantes funções:\n",
    "1. servir de referência de performance final; e\n",
    "2. guiar a inicialização de agentes de RL.\n",
    "\n",
    "Em outras palavras, se um agente de RL após o treinamento não conseguir uma performance significativamente melhor do que aquela do agente aleatório, então muito provavelemente algo não está funcionando como deveria. Além disso, ao garantir que a inicialização de uma política induza um comportamente similar ao de um agente aleatório, não estaremos enviesando a exploração inicial do agente; o que poderia levar muito rapidamente para uma performance sub-ótima."
   ]
  },
  {
   "cell_type": "code",
   "execution_count": 56,
   "metadata": {},
   "outputs": [],
   "source": [
    "class RandomPolicy(RLAgent):\n",
    "    \"\"\"\n",
    "    Agente aleatório. Escolhe aleatoriamente uma ação independentemente\n",
    "    da observação recebida do ambiente.\n",
    "    \n",
    "    Args:\n",
    "        action_space:  especificação do espaço de ações do ambiente.\n",
    "    \"\"\"\n",
    "    \n",
    "    def __init__(self, observation_space, action_space, config=None):\n",
    "        super(RandomPolicy, self).__init__(observation_space, action_space, config)\n",
    "\n",
    "    def act(self, obs):\n",
    "        \"\"\"Retorna uma ação aleatória.\"\"\"\n",
    "        return self.action_space.sample()\n",
    "\n",
    "    def observe(self, obs, action, reward, next_obs, done):\n",
    "        \"\"\"Ignora transições; i.e., um agente aletório não armazena experiências na memória.\"\"\"\n",
    "        pass\n",
    "\n",
    "    def learn(self):\n",
    "        \"\"\"Um agente aletório não aprende; i.e., não melhora seu comportamento.\"\"\"\n",
    "        pass\n"
   ]
  },
  {
   "cell_type": "markdown",
   "metadata": {},
   "source": [
    "Note que para uma mesma observação o agente `RandomPolicy` retorna diferentes ações a cada chamada:"
   ]
  },
  {
   "cell_type": "code",
   "execution_count": 57,
   "metadata": {},
   "outputs": [
    {
     "name": "stdout",
     "output_type": "stream",
     "text": [
      "[0, 2, 2, 2, 1, 0, 0, 0, 0, 0, 2, 2, 1, 0, 0, 0, 1, 0, 1, 1]\n"
     ]
    }
   ],
   "source": [
    "agent = RandomPolicy(env.observation_space, env.action_space)\n",
    "\n",
    "obs = env.reset()\n",
    "print([agent.act(obs) for _ in range(20)])"
   ]
  },
  {
   "cell_type": "code",
   "execution_count": 58,
   "metadata": {},
   "outputs": [
    {
     "data": {
      "text/html": [
       "\n",
       "\n",
       "\n",
       "\n",
       "\n",
       "\n",
       "  <div class=\"bk-root\" id=\"b492fe7b-939f-42ea-8749-2d22d6d13ab5\" data-root-id=\"2434\"></div>\n"
      ]
     },
     "metadata": {},
     "output_type": "display_data"
    },
    {
     "data": {
      "application/javascript": [
       "(function(root) {\n",
       "  function embed_document(root) {\n",
       "    \n",
       "  var docs_json = {\"c940cc92-a2dc-45f1-b507-acdbeca3af05\":{\"roots\":{\"references\":[{\"attributes\":{\"children\":[{\"id\":\"2433\",\"type\":\"ToolbarBox\"},{\"id\":\"2431\",\"type\":\"GridBox\"}]},\"id\":\"2434\",\"type\":\"Column\"},{\"attributes\":{\"source\":{\"id\":\"2157\",\"type\":\"ColumnDataSource\"}},\"id\":\"2161\",\"type\":\"CDSView\"},{\"attributes\":{\"below\":[{\"id\":\"2173\",\"type\":\"LinearAxis\"}],\"center\":[{\"id\":\"2177\",\"type\":\"Grid\"},{\"id\":\"2182\",\"type\":\"Grid\"}],\"left\":[{\"id\":\"2178\",\"type\":\"LinearAxis\"}],\"plot_height\":250,\"plot_width\":250,\"renderers\":[{\"id\":\"2201\",\"type\":\"GlyphRenderer\"}],\"title\":{\"id\":\"2163\",\"type\":\"Title\"},\"toolbar\":{\"id\":\"2189\",\"type\":\"Toolbar\"},\"toolbar_location\":null,\"x_range\":{\"id\":\"2165\",\"type\":\"DataRange1d\"},\"x_scale\":{\"id\":\"2169\",\"type\":\"LinearScale\"},\"y_range\":{\"id\":\"2167\",\"type\":\"DataRange1d\"},\"y_scale\":{\"id\":\"2171\",\"type\":\"LinearScale\"}},\"id\":\"2162\",\"subtype\":\"Figure\",\"type\":\"Plot\"},{\"attributes\":{\"text\":\"obs = [-0.34641305  0.03246634]\"},\"id\":\"2040\",\"type\":\"Title\"},{\"attributes\":{\"text\":\"obs = [-1.1127609   0.01554452]\"},\"id\":\"2163\",\"type\":\"Title\"},{\"attributes\":{\"callback\":null},\"id\":\"2165\",\"type\":\"DataRange1d\"},{\"attributes\":{},\"id\":\"2046\",\"type\":\"LinearScale\"},{\"attributes\":{\"callback\":null},\"id\":\"2167\",\"type\":\"DataRange1d\"},{\"attributes\":{},\"id\":\"2169\",\"type\":\"LinearScale\"},{\"attributes\":{},\"id\":\"2171\",\"type\":\"LinearScale\"},{\"attributes\":{\"axis_label\":\"Actions\",\"formatter\":{\"id\":\"2394\",\"type\":\"BasicTickFormatter\"},\"major_label_overrides\":{\"0.3333333333333333\":\"0\",\"1.0\":\"1\",\"1.6666666666666665\":\"2\"},\"ticker\":{\"id\":\"2196\",\"type\":\"FixedTicker\"}},\"id\":\"2173\",\"type\":\"LinearAxis\"},{\"attributes\":{},\"id\":\"2101\",\"type\":\"PanTool\"},{\"attributes\":{},\"id\":\"2174\",\"type\":\"BasicTicker\"},{\"attributes\":{\"ticker\":{\"id\":\"2174\",\"type\":\"BasicTicker\"},\"visible\":false},\"id\":\"2177\",\"type\":\"Grid\"},{\"attributes\":{\"axis_label\":\"Action Distribution\",\"formatter\":{\"id\":\"2392\",\"type\":\"BasicTickFormatter\"},\"ticker\":{\"id\":\"2179\",\"type\":\"BasicTicker\"}},\"id\":\"2178\",\"type\":\"LinearAxis\"},{\"attributes\":{},\"id\":\"2179\",\"type\":\"BasicTicker\"},{\"attributes\":{\"dimension\":1,\"ticker\":{\"id\":\"2179\",\"type\":\"BasicTicker\"}},\"id\":\"2182\",\"type\":\"Grid\"},{\"attributes\":{\"ticks\":[0.3333333333333333,1.0,1.6666666666666665]},\"id\":\"2196\",\"type\":\"FixedTicker\"},{\"attributes\":{\"callback\":null,\"data\":{\"left\":{\"__ndarray__\":\"AAAAAAAAAABVVVVVVVXlP1VVVVVVVfU/\",\"dtype\":\"float64\",\"shape\":[3]},\"right\":{\"__ndarray__\":\"VVVVVVVV5T9VVVVVVVX1PwAAAAAAAABA\",\"dtype\":\"float64\",\"shape\":[3]},\"top\":{\"__ndarray__\":\"MzMzMzMz3z/VeOkmMQjgP5HtfD81XuA/\",\"dtype\":\"float64\",\"shape\":[3]}},\"selected\":{\"id\":\"2395\",\"type\":\"Selection\"},\"selection_policy\":{\"id\":\"2396\",\"type\":\"UnionRenderers\"}},\"id\":\"2198\",\"type\":\"ColumnDataSource\"},{\"attributes\":{\"active_drag\":\"auto\",\"active_inspect\":\"auto\",\"active_multi\":null,\"active_scroll\":\"auto\",\"active_tap\":\"auto\",\"tools\":[{\"id\":\"2183\",\"type\":\"PanTool\"},{\"id\":\"2184\",\"type\":\"WheelZoomTool\"},{\"id\":\"2185\",\"type\":\"BoxZoomTool\"},{\"id\":\"2186\",\"type\":\"SaveTool\"},{\"id\":\"2187\",\"type\":\"ResetTool\"},{\"id\":\"2188\",\"type\":\"HelpTool\"}]},\"id\":\"2189\",\"type\":\"Toolbar\"},{\"attributes\":{},\"id\":\"2183\",\"type\":\"PanTool\"},{\"attributes\":{},\"id\":\"2184\",\"type\":\"WheelZoomTool\"},{\"attributes\":{\"overlay\":{\"id\":\"2397\",\"type\":\"BoxAnnotation\"}},\"id\":\"2185\",\"type\":\"BoxZoomTool\"},{\"attributes\":{},\"id\":\"2186\",\"type\":\"SaveTool\"},{\"attributes\":{},\"id\":\"2187\",\"type\":\"ResetTool\"},{\"attributes\":{},\"id\":\"2188\",\"type\":\"HelpTool\"},{\"attributes\":{\"callback\":null,\"data\":{\"left\":{\"__ndarray__\":\"AAAAAAAAAABVVVVVVVXlP1VVVVVVVfU/\",\"dtype\":\"float64\",\"shape\":[3]},\"right\":{\"__ndarray__\":\"VVVVVVVV5T9VVVVVVVX1PwAAAAAAAABA\",\"dtype\":\"float64\",\"shape\":[3]},\"top\":{\"__ndarray__\":\"N4lBYOXQ3j+LbOf7qfHgP7Gd76fGS98/\",\"dtype\":\"float64\",\"shape\":[3]}},\"selected\":{\"id\":\"2371\",\"type\":\"Selection\"},\"selection_policy\":{\"id\":\"2372\",\"type\":\"UnionRenderers\"}},\"id\":\"2075\",\"type\":\"ColumnDataSource\"},{\"attributes\":{\"bottom\":{\"value\":0},\"fill_alpha\":{\"value\":0.5},\"fill_color\":{\"value\":\"#1f77b4\"},\"left\":{\"field\":\"left\"},\"line_alpha\":{\"value\":0.5},\"line_color\":{\"value\":\"white\"},\"right\":{\"field\":\"right\"},\"top\":{\"field\":\"top\"}},\"id\":\"2199\",\"type\":\"Quad\"},{\"attributes\":{\"callback\":null},\"id\":\"2042\",\"type\":\"DataRange1d\"},{\"attributes\":{\"bottom\":{\"value\":0},\"fill_alpha\":{\"value\":0.1},\"fill_color\":{\"value\":\"#1f77b4\"},\"left\":{\"field\":\"left\"},\"line_alpha\":{\"value\":0.1},\"line_color\":{\"value\":\"#1f77b4\"},\"right\":{\"field\":\"right\"},\"top\":{\"field\":\"top\"}},\"id\":\"2200\",\"type\":\"Quad\"},{\"attributes\":{\"data_source\":{\"id\":\"2198\",\"type\":\"ColumnDataSource\"},\"glyph\":{\"id\":\"2199\",\"type\":\"Quad\"},\"hover_glyph\":null,\"muted_glyph\":null,\"nonselection_glyph\":{\"id\":\"2200\",\"type\":\"Quad\"},\"selection_glyph\":null,\"view\":{\"id\":\"2202\",\"type\":\"CDSView\"}},\"id\":\"2201\",\"type\":\"GlyphRenderer\"},{\"attributes\":{\"source\":{\"id\":\"2198\",\"type\":\"ColumnDataSource\"}},\"id\":\"2202\",\"type\":\"CDSView\"},{\"attributes\":{\"below\":[{\"id\":\"2050\",\"type\":\"LinearAxis\"}],\"center\":[{\"id\":\"2054\",\"type\":\"Grid\"},{\"id\":\"2059\",\"type\":\"Grid\"}],\"left\":[{\"id\":\"2055\",\"type\":\"LinearAxis\"}],\"plot_height\":250,\"plot_width\":250,\"renderers\":[{\"id\":\"2078\",\"type\":\"GlyphRenderer\"}],\"title\":{\"id\":\"2040\",\"type\":\"Title\"},\"toolbar\":{\"id\":\"2066\",\"type\":\"Toolbar\"},\"toolbar_location\":null,\"x_range\":{\"id\":\"2042\",\"type\":\"DataRange1d\"},\"x_scale\":{\"id\":\"2046\",\"type\":\"LinearScale\"},\"y_range\":{\"id\":\"2044\",\"type\":\"DataRange1d\"},\"y_scale\":{\"id\":\"2048\",\"type\":\"LinearScale\"}},\"id\":\"2039\",\"subtype\":\"Figure\",\"type\":\"Plot\"},{\"attributes\":{\"below\":[{\"id\":\"2214\",\"type\":\"LinearAxis\"}],\"center\":[{\"id\":\"2218\",\"type\":\"Grid\"},{\"id\":\"2223\",\"type\":\"Grid\"}],\"left\":[{\"id\":\"2219\",\"type\":\"LinearAxis\"}],\"plot_height\":250,\"plot_width\":250,\"renderers\":[{\"id\":\"2242\",\"type\":\"GlyphRenderer\"}],\"title\":{\"id\":\"2204\",\"type\":\"Title\"},\"toolbar\":{\"id\":\"2230\",\"type\":\"Toolbar\"},\"toolbar_location\":null,\"x_range\":{\"id\":\"2206\",\"type\":\"DataRange1d\"},\"x_scale\":{\"id\":\"2210\",\"type\":\"LinearScale\"},\"y_range\":{\"id\":\"2208\",\"type\":\"DataRange1d\"},\"y_scale\":{\"id\":\"2212\",\"type\":\"LinearScale\"}},\"id\":\"2203\",\"subtype\":\"Figure\",\"type\":\"Plot\"},{\"attributes\":{\"text\":\"obs = [-0.9440504   0.04019633]\"},\"id\":\"2204\",\"type\":\"Title\"},{\"attributes\":{\"callback\":null,\"data\":{\"left\":{\"__ndarray__\":\"AAAAAAAAAABVVVVVVVXlP1VVVVVVVfU/\",\"dtype\":\"float64\",\"shape\":[3]},\"right\":{\"__ndarray__\":\"VVVVVVVV5T9VVVVVVVX1PwAAAAAAAABA\",\"dtype\":\"float64\",\"shape\":[3]},\"top\":{\"__ndarray__\":\"1XjpJjEI4D/RItv5fmrgP7PIdr6fGt8/\",\"dtype\":\"float64\",\"shape\":[3]}},\"selected\":{\"id\":\"2403\",\"type\":\"Selection\"},\"selection_policy\":{\"id\":\"2404\",\"type\":\"UnionRenderers\"}},\"id\":\"2239\",\"type\":\"ColumnDataSource\"},{\"attributes\":{\"below\":[{\"id\":\"2091\",\"type\":\"LinearAxis\"}],\"center\":[{\"id\":\"2095\",\"type\":\"Grid\"},{\"id\":\"2100\",\"type\":\"Grid\"}],\"left\":[{\"id\":\"2096\",\"type\":\"LinearAxis\"}],\"plot_height\":250,\"plot_width\":250,\"renderers\":[{\"id\":\"2119\",\"type\":\"GlyphRenderer\"}],\"title\":{\"id\":\"2081\",\"type\":\"Title\"},\"toolbar\":{\"id\":\"2107\",\"type\":\"Toolbar\"},\"toolbar_location\":null,\"x_range\":{\"id\":\"2083\",\"type\":\"DataRange1d\"},\"x_scale\":{\"id\":\"2087\",\"type\":\"LinearScale\"},\"y_range\":{\"id\":\"2085\",\"type\":\"DataRange1d\"},\"y_scale\":{\"id\":\"2089\",\"type\":\"LinearScale\"}},\"id\":\"2080\",\"subtype\":\"Figure\",\"type\":\"Plot\"},{\"attributes\":{\"callback\":null},\"id\":\"2044\",\"type\":\"DataRange1d\"},{\"attributes\":{\"callback\":null},\"id\":\"2206\",\"type\":\"DataRange1d\"},{\"attributes\":{\"callback\":null},\"id\":\"2208\",\"type\":\"DataRange1d\"},{\"attributes\":{},\"id\":\"2210\",\"type\":\"LinearScale\"},{\"attributes\":{},\"id\":\"2212\",\"type\":\"LinearScale\"},{\"attributes\":{},\"id\":\"2048\",\"type\":\"LinearScale\"},{\"attributes\":{\"axis_label\":\"Actions\",\"formatter\":{\"id\":\"2402\",\"type\":\"BasicTickFormatter\"},\"major_label_overrides\":{\"0.3333333333333333\":\"0\",\"1.0\":\"1\",\"1.6666666666666665\":\"2\"},\"ticker\":{\"id\":\"2237\",\"type\":\"FixedTicker\"}},\"id\":\"2214\",\"type\":\"LinearAxis\"},{\"attributes\":{},\"id\":\"2215\",\"type\":\"BasicTicker\"},{\"attributes\":{\"below\":[{\"id\":\"2337\",\"type\":\"LinearAxis\"}],\"center\":[{\"id\":\"2341\",\"type\":\"Grid\"},{\"id\":\"2346\",\"type\":\"Grid\"}],\"left\":[{\"id\":\"2342\",\"type\":\"LinearAxis\"}],\"plot_height\":250,\"plot_width\":250,\"renderers\":[{\"id\":\"2365\",\"type\":\"GlyphRenderer\"}],\"title\":{\"id\":\"2327\",\"type\":\"Title\"},\"toolbar\":{\"id\":\"2353\",\"type\":\"Toolbar\"},\"toolbar_location\":null,\"x_range\":{\"id\":\"2329\",\"type\":\"DataRange1d\"},\"x_scale\":{\"id\":\"2333\",\"type\":\"LinearScale\"},\"y_range\":{\"id\":\"2331\",\"type\":\"DataRange1d\"},\"y_scale\":{\"id\":\"2335\",\"type\":\"LinearScale\"}},\"id\":\"2326\",\"subtype\":\"Figure\",\"type\":\"Plot\"},{\"attributes\":{\"bottom_units\":\"screen\",\"fill_alpha\":{\"value\":0.5},\"fill_color\":{\"value\":\"lightgrey\"},\"left_units\":\"screen\",\"level\":\"overlay\",\"line_alpha\":{\"value\":1.0},\"line_color\":{\"value\":\"black\"},\"line_dash\":[4,4],\"line_width\":{\"value\":2},\"render_mode\":\"css\",\"right_units\":\"screen\",\"top_units\":\"screen\"},\"id\":\"2381\",\"type\":\"BoxAnnotation\"},{\"attributes\":{},\"id\":\"2102\",\"type\":\"WheelZoomTool\"},{\"attributes\":{},\"id\":\"2268\",\"type\":\"SaveTool\"},{\"attributes\":{\"ticker\":{\"id\":\"2215\",\"type\":\"BasicTicker\"},\"visible\":false},\"id\":\"2218\",\"type\":\"Grid\"},{\"attributes\":{\"text\":\"obs = [-0.7351797  0.0428768]\"},\"id\":\"2327\",\"type\":\"Title\"},{\"attributes\":{},\"id\":\"2384\",\"type\":\"BasicTickFormatter\"},{\"attributes\":{\"overlay\":{\"id\":\"2381\",\"type\":\"BoxAnnotation\"}},\"id\":\"2103\",\"type\":\"BoxZoomTool\"},{\"attributes\":{},\"id\":\"2269\",\"type\":\"ResetTool\"},{\"attributes\":{\"axis_label\":\"Action Distribution\",\"formatter\":{\"id\":\"2400\",\"type\":\"BasicTickFormatter\"},\"ticker\":{\"id\":\"2220\",\"type\":\"BasicTicker\"}},\"id\":\"2219\",\"type\":\"LinearAxis\"},{\"attributes\":{\"callback\":null},\"id\":\"2329\",\"type\":\"DataRange1d\"},{\"attributes\":{},\"id\":\"2051\",\"type\":\"BasicTicker\"},{\"attributes\":{},\"id\":\"2386\",\"type\":\"BasicTickFormatter\"},{\"attributes\":{},\"id\":\"2104\",\"type\":\"SaveTool\"},{\"attributes\":{},\"id\":\"2270\",\"type\":\"HelpTool\"},{\"attributes\":{\"axis_label\":\"Action Distribution\",\"formatter\":{\"id\":\"2368\",\"type\":\"BasicTickFormatter\"},\"ticker\":{\"id\":\"2056\",\"type\":\"BasicTicker\"}},\"id\":\"2055\",\"type\":\"LinearAxis\"},{\"attributes\":{\"callback\":null},\"id\":\"2331\",\"type\":\"DataRange1d\"},{\"attributes\":{},\"id\":\"2220\",\"type\":\"BasicTicker\"},{\"attributes\":{},\"id\":\"2387\",\"type\":\"Selection\"},{\"attributes\":{},\"id\":\"2105\",\"type\":\"ResetTool\"},{\"attributes\":{\"dimension\":1,\"ticker\":{\"id\":\"2056\",\"type\":\"BasicTicker\"}},\"id\":\"2059\",\"type\":\"Grid\"},{\"attributes\":{\"dimension\":1,\"ticker\":{\"id\":\"2220\",\"type\":\"BasicTicker\"}},\"id\":\"2223\",\"type\":\"Grid\"},{\"attributes\":{\"active_drag\":\"auto\",\"active_inspect\":\"auto\",\"active_multi\":null,\"active_scroll\":\"auto\",\"active_tap\":\"auto\",\"tools\":[{\"id\":\"2265\",\"type\":\"PanTool\"},{\"id\":\"2266\",\"type\":\"WheelZoomTool\"},{\"id\":\"2267\",\"type\":\"BoxZoomTool\"},{\"id\":\"2268\",\"type\":\"SaveTool\"},{\"id\":\"2269\",\"type\":\"ResetTool\"},{\"id\":\"2270\",\"type\":\"HelpTool\"}]},\"id\":\"2271\",\"type\":\"Toolbar\"},{\"attributes\":{},\"id\":\"2333\",\"type\":\"LinearScale\"},{\"attributes\":{},\"id\":\"2388\",\"type\":\"UnionRenderers\"},{\"attributes\":{},\"id\":\"2106\",\"type\":\"HelpTool\"},{\"attributes\":{\"bottom\":{\"value\":0},\"fill_alpha\":{\"value\":0.5},\"fill_color\":{\"value\":\"#1f77b4\"},\"left\":{\"field\":\"left\"},\"line_alpha\":{\"value\":0.5},\"line_color\":{\"value\":\"white\"},\"right\":{\"field\":\"right\"},\"top\":{\"field\":\"top\"}},\"id\":\"2281\",\"type\":\"Quad\"},{\"attributes\":{},\"id\":\"2335\",\"type\":\"LinearScale\"},{\"attributes\":{\"bottom_units\":\"screen\",\"fill_alpha\":{\"value\":0.5},\"fill_color\":{\"value\":\"lightgrey\"},\"left_units\":\"screen\",\"level\":\"overlay\",\"line_alpha\":{\"value\":1.0},\"line_color\":{\"value\":\"black\"},\"line_dash\":[4,4],\"line_width\":{\"value\":2},\"render_mode\":\"css\",\"right_units\":\"screen\",\"top_units\":\"screen\"},\"id\":\"2389\",\"type\":\"BoxAnnotation\"},{\"attributes\":{\"ticks\":[0.3333333333333333,1.0,1.6666666666666665]},\"id\":\"2237\",\"type\":\"FixedTicker\"},{\"attributes\":{\"ticks\":[0.3333333333333333,1.0,1.6666666666666665]},\"id\":\"2073\",\"type\":\"FixedTicker\"},{\"attributes\":{},\"id\":\"2060\",\"type\":\"PanTool\"},{\"attributes\":{\"active_drag\":\"auto\",\"active_inspect\":\"auto\",\"active_multi\":null,\"active_scroll\":\"auto\",\"active_tap\":\"auto\",\"tools\":[{\"id\":\"2101\",\"type\":\"PanTool\"},{\"id\":\"2102\",\"type\":\"WheelZoomTool\"},{\"id\":\"2103\",\"type\":\"BoxZoomTool\"},{\"id\":\"2104\",\"type\":\"SaveTool\"},{\"id\":\"2105\",\"type\":\"ResetTool\"},{\"id\":\"2106\",\"type\":\"HelpTool\"}]},\"id\":\"2107\",\"type\":\"Toolbar\"},{\"attributes\":{\"axis_label\":\"Actions\",\"formatter\":{\"id\":\"2426\",\"type\":\"BasicTickFormatter\"},\"major_label_overrides\":{\"0.3333333333333333\":\"0\",\"1.0\":\"1\",\"1.6666666666666665\":\"2\"},\"ticker\":{\"id\":\"2360\",\"type\":\"FixedTicker\"}},\"id\":\"2337\",\"type\":\"LinearAxis\"},{\"attributes\":{},\"id\":\"2392\",\"type\":\"BasicTickFormatter\"},{\"attributes\":{\"active_drag\":\"auto\",\"active_inspect\":\"auto\",\"active_multi\":null,\"active_scroll\":\"auto\",\"active_tap\":\"auto\",\"tools\":[{\"id\":\"2224\",\"type\":\"PanTool\"},{\"id\":\"2225\",\"type\":\"WheelZoomTool\"},{\"id\":\"2226\",\"type\":\"BoxZoomTool\"},{\"id\":\"2227\",\"type\":\"SaveTool\"},{\"id\":\"2228\",\"type\":\"ResetTool\"},{\"id\":\"2229\",\"type\":\"HelpTool\"}]},\"id\":\"2230\",\"type\":\"Toolbar\"},{\"attributes\":{\"bottom\":{\"value\":0},\"fill_alpha\":{\"value\":0.5},\"fill_color\":{\"value\":\"#1f77b4\"},\"left\":{\"field\":\"left\"},\"line_alpha\":{\"value\":0.5},\"line_color\":{\"value\":\"white\"},\"right\":{\"field\":\"right\"},\"top\":{\"field\":\"top\"}},\"id\":\"2117\",\"type\":\"Quad\"},{\"attributes\":{\"bottom\":{\"value\":0},\"fill_alpha\":{\"value\":0.1},\"fill_color\":{\"value\":\"#1f77b4\"},\"left\":{\"field\":\"left\"},\"line_alpha\":{\"value\":0.1},\"line_color\":{\"value\":\"#1f77b4\"},\"right\":{\"field\":\"right\"},\"top\":{\"field\":\"top\"}},\"id\":\"2282\",\"type\":\"Quad\"},{\"attributes\":{},\"id\":\"2224\",\"type\":\"PanTool\"},{\"attributes\":{\"data_source\":{\"id\":\"2280\",\"type\":\"ColumnDataSource\"},\"glyph\":{\"id\":\"2281\",\"type\":\"Quad\"},\"hover_glyph\":null,\"muted_glyph\":null,\"nonselection_glyph\":{\"id\":\"2282\",\"type\":\"Quad\"},\"selection_glyph\":null,\"view\":{\"id\":\"2284\",\"type\":\"CDSView\"}},\"id\":\"2283\",\"type\":\"GlyphRenderer\"},{\"attributes\":{},\"id\":\"2394\",\"type\":\"BasicTickFormatter\"},{\"attributes\":{},\"id\":\"2338\",\"type\":\"BasicTicker\"},{\"attributes\":{},\"id\":\"2225\",\"type\":\"WheelZoomTool\"},{\"attributes\":{\"ticker\":{\"id\":\"2338\",\"type\":\"BasicTicker\"},\"visible\":false},\"id\":\"2341\",\"type\":\"Grid\"},{\"attributes\":{\"bottom\":{\"value\":0},\"fill_alpha\":{\"value\":0.1},\"fill_color\":{\"value\":\"#1f77b4\"},\"left\":{\"field\":\"left\"},\"line_alpha\":{\"value\":0.1},\"line_color\":{\"value\":\"#1f77b4\"},\"right\":{\"field\":\"right\"},\"top\":{\"field\":\"top\"}},\"id\":\"2118\",\"type\":\"Quad\"},{\"attributes\":{\"source\":{\"id\":\"2280\",\"type\":\"ColumnDataSource\"}},\"id\":\"2284\",\"type\":\"CDSView\"},{\"attributes\":{\"ticker\":{\"id\":\"2051\",\"type\":\"BasicTicker\"},\"visible\":false},\"id\":\"2054\",\"type\":\"Grid\"},{\"attributes\":{},\"id\":\"2395\",\"type\":\"Selection\"},{\"attributes\":{\"below\":[{\"id\":\"2296\",\"type\":\"LinearAxis\"}],\"center\":[{\"id\":\"2300\",\"type\":\"Grid\"},{\"id\":\"2305\",\"type\":\"Grid\"}],\"left\":[{\"id\":\"2301\",\"type\":\"LinearAxis\"}],\"plot_height\":250,\"plot_width\":250,\"renderers\":[{\"id\":\"2324\",\"type\":\"GlyphRenderer\"}],\"title\":{\"id\":\"2286\",\"type\":\"Title\"},\"toolbar\":{\"id\":\"2312\",\"type\":\"Toolbar\"},\"toolbar_location\":null,\"x_range\":{\"id\":\"2288\",\"type\":\"DataRange1d\"},\"x_scale\":{\"id\":\"2292\",\"type\":\"LinearScale\"},\"y_range\":{\"id\":\"2290\",\"type\":\"DataRange1d\"},\"y_scale\":{\"id\":\"2294\",\"type\":\"LinearScale\"}},\"id\":\"2285\",\"subtype\":\"Figure\",\"type\":\"Plot\"},{\"attributes\":{\"overlay\":{\"id\":\"2405\",\"type\":\"BoxAnnotation\"}},\"id\":\"2226\",\"type\":\"BoxZoomTool\"},{\"attributes\":{\"data_source\":{\"id\":\"2116\",\"type\":\"ColumnDataSource\"},\"glyph\":{\"id\":\"2117\",\"type\":\"Quad\"},\"hover_glyph\":null,\"muted_glyph\":null,\"nonselection_glyph\":{\"id\":\"2118\",\"type\":\"Quad\"},\"selection_glyph\":null,\"view\":{\"id\":\"2120\",\"type\":\"CDSView\"}},\"id\":\"2119\",\"type\":\"GlyphRenderer\"},{\"attributes\":{\"axis_label\":\"Action Distribution\",\"formatter\":{\"id\":\"2424\",\"type\":\"BasicTickFormatter\"},\"ticker\":{\"id\":\"2343\",\"type\":\"BasicTicker\"}},\"id\":\"2342\",\"type\":\"LinearAxis\"},{\"attributes\":{},\"id\":\"2056\",\"type\":\"BasicTicker\"},{\"attributes\":{},\"id\":\"2396\",\"type\":\"UnionRenderers\"},{\"attributes\":{},\"id\":\"2227\",\"type\":\"SaveTool\"},{\"attributes\":{\"bottom_units\":\"screen\",\"fill_alpha\":{\"value\":0.5},\"fill_color\":{\"value\":\"lightgrey\"},\"left_units\":\"screen\",\"level\":\"overlay\",\"line_alpha\":{\"value\":1.0},\"line_color\":{\"value\":\"black\"},\"line_dash\":[4,4],\"line_width\":{\"value\":2},\"render_mode\":\"css\",\"right_units\":\"screen\",\"top_units\":\"screen\"},\"id\":\"2397\",\"type\":\"BoxAnnotation\"},{\"attributes\":{\"source\":{\"id\":\"2116\",\"type\":\"ColumnDataSource\"}},\"id\":\"2120\",\"type\":\"CDSView\"},{\"attributes\":{},\"id\":\"2343\",\"type\":\"BasicTicker\"},{\"attributes\":{},\"id\":\"2064\",\"type\":\"ResetTool\"},{\"attributes\":{\"text\":\"obs = [ 0.27192938 -0.01972334]\"},\"id\":\"2286\",\"type\":\"Title\"},{\"attributes\":{\"below\":[{\"id\":\"2132\",\"type\":\"LinearAxis\"}],\"center\":[{\"id\":\"2136\",\"type\":\"Grid\"},{\"id\":\"2141\",\"type\":\"Grid\"}],\"left\":[{\"id\":\"2137\",\"type\":\"LinearAxis\"}],\"plot_height\":250,\"plot_width\":250,\"renderers\":[{\"id\":\"2160\",\"type\":\"GlyphRenderer\"}],\"title\":{\"id\":\"2122\",\"type\":\"Title\"},\"toolbar\":{\"id\":\"2148\",\"type\":\"Toolbar\"},\"toolbar_location\":null,\"x_range\":{\"id\":\"2124\",\"type\":\"DataRange1d\"},\"x_scale\":{\"id\":\"2128\",\"type\":\"LinearScale\"},\"y_range\":{\"id\":\"2126\",\"type\":\"DataRange1d\"},\"y_scale\":{\"id\":\"2130\",\"type\":\"LinearScale\"}},\"id\":\"2121\",\"subtype\":\"Figure\",\"type\":\"Plot\"},{\"attributes\":{\"overlay\":{\"id\":\"2373\",\"type\":\"BoxAnnotation\"}},\"id\":\"2062\",\"type\":\"BoxZoomTool\"},{\"attributes\":{},\"id\":\"2228\",\"type\":\"ResetTool\"},{\"attributes\":{\"dimension\":1,\"ticker\":{\"id\":\"2343\",\"type\":\"BasicTicker\"}},\"id\":\"2346\",\"type\":\"Grid\"},{\"attributes\":{},\"id\":\"2063\",\"type\":\"SaveTool\"},{\"attributes\":{\"callback\":null},\"id\":\"2288\",\"type\":\"DataRange1d\"},{\"attributes\":{},\"id\":\"2400\",\"type\":\"BasicTickFormatter\"},{\"attributes\":{},\"id\":\"2061\",\"type\":\"WheelZoomTool\"},{\"attributes\":{},\"id\":\"2229\",\"type\":\"HelpTool\"},{\"attributes\":{},\"id\":\"2402\",\"type\":\"BasicTickFormatter\"},{\"attributes\":{\"ticks\":[0.3333333333333333,1.0,1.6666666666666665]},\"id\":\"2360\",\"type\":\"FixedTicker\"},{\"attributes\":{\"text\":\"obs = [-0.19050175  0.05204223]\"},\"id\":\"2122\",\"type\":\"Title\"},{\"attributes\":{\"callback\":null},\"id\":\"2290\",\"type\":\"DataRange1d\"},{\"attributes\":{\"active_drag\":\"auto\",\"active_inspect\":\"auto\",\"active_multi\":null,\"active_scroll\":\"auto\",\"active_tap\":\"auto\",\"tools\":[{\"id\":\"2060\",\"type\":\"PanTool\"},{\"id\":\"2061\",\"type\":\"WheelZoomTool\"},{\"id\":\"2062\",\"type\":\"BoxZoomTool\"},{\"id\":\"2063\",\"type\":\"SaveTool\"},{\"id\":\"2064\",\"type\":\"ResetTool\"},{\"id\":\"2065\",\"type\":\"HelpTool\"}]},\"id\":\"2066\",\"type\":\"Toolbar\"},{\"attributes\":{\"callback\":null,\"data\":{\"left\":{\"__ndarray__\":\"AAAAAAAAAABVVVVVVVXlP1VVVVVVVfU/\",\"dtype\":\"float64\",\"shape\":[3]},\"right\":{\"__ndarray__\":\"VVVVVVVV5T9VVVVVVVX1PwAAAAAAAABA\",\"dtype\":\"float64\",\"shape\":[3]},\"top\":{\"__ndarray__\":\"O99PjZdu3j+HFtnO91PhP7Xz/dR46d4/\",\"dtype\":\"float64\",\"shape\":[3]}},\"selected\":{\"id\":\"2427\",\"type\":\"Selection\"},\"selection_policy\":{\"id\":\"2428\",\"type\":\"UnionRenderers\"}},\"id\":\"2362\",\"type\":\"ColumnDataSource\"},{\"attributes\":{},\"id\":\"2403\",\"type\":\"Selection\"},{\"attributes\":{\"callback\":null},\"id\":\"2124\",\"type\":\"DataRange1d\"},{\"attributes\":{},\"id\":\"2292\",\"type\":\"LinearScale\"},{\"attributes\":{\"active_drag\":\"auto\",\"active_inspect\":\"auto\",\"active_multi\":null,\"active_scroll\":\"auto\",\"active_tap\":\"auto\",\"tools\":[{\"id\":\"2347\",\"type\":\"PanTool\"},{\"id\":\"2348\",\"type\":\"WheelZoomTool\"},{\"id\":\"2349\",\"type\":\"BoxZoomTool\"},{\"id\":\"2350\",\"type\":\"SaveTool\"},{\"id\":\"2351\",\"type\":\"ResetTool\"},{\"id\":\"2352\",\"type\":\"HelpTool\"}]},\"id\":\"2353\",\"type\":\"Toolbar\"},{\"attributes\":{\"bottom\":{\"value\":0},\"fill_alpha\":{\"value\":0.5},\"fill_color\":{\"value\":\"#1f77b4\"},\"left\":{\"field\":\"left\"},\"line_alpha\":{\"value\":0.5},\"line_color\":{\"value\":\"white\"},\"right\":{\"field\":\"right\"},\"top\":{\"field\":\"top\"}},\"id\":\"2240\",\"type\":\"Quad\"},{\"attributes\":{},\"id\":\"2404\",\"type\":\"UnionRenderers\"},{\"attributes\":{},\"id\":\"2347\",\"type\":\"PanTool\"},{\"attributes\":{\"callback\":null},\"id\":\"2126\",\"type\":\"DataRange1d\"},{\"attributes\":{},\"id\":\"2294\",\"type\":\"LinearScale\"},{\"attributes\":{\"bottom_units\":\"screen\",\"fill_alpha\":{\"value\":0.5},\"fill_color\":{\"value\":\"lightgrey\"},\"left_units\":\"screen\",\"level\":\"overlay\",\"line_alpha\":{\"value\":1.0},\"line_color\":{\"value\":\"black\"},\"line_dash\":[4,4],\"line_width\":{\"value\":2},\"render_mode\":\"css\",\"right_units\":\"screen\",\"top_units\":\"screen\"},\"id\":\"2405\",\"type\":\"BoxAnnotation\"},{\"attributes\":{},\"id\":\"2348\",\"type\":\"WheelZoomTool\"},{\"attributes\":{},\"id\":\"2128\",\"type\":\"LinearScale\"},{\"attributes\":{\"axis_label\":\"Actions\",\"formatter\":{\"id\":\"2418\",\"type\":\"BasicTickFormatter\"},\"major_label_overrides\":{\"0.3333333333333333\":\"0\",\"1.0\":\"1\",\"1.6666666666666665\":\"2\"},\"ticker\":{\"id\":\"2319\",\"type\":\"FixedTicker\"}},\"id\":\"2296\",\"type\":\"LinearAxis\"},{\"attributes\":{\"bottom\":{\"value\":0},\"fill_alpha\":{\"value\":0.1},\"fill_color\":{\"value\":\"#1f77b4\"},\"left\":{\"field\":\"left\"},\"line_alpha\":{\"value\":0.1},\"line_color\":{\"value\":\"#1f77b4\"},\"right\":{\"field\":\"right\"},\"top\":{\"field\":\"top\"}},\"id\":\"2241\",\"type\":\"Quad\"},{\"attributes\":{},\"id\":\"2408\",\"type\":\"BasicTickFormatter\"},{\"attributes\":{},\"id\":\"2130\",\"type\":\"LinearScale\"},{\"attributes\":{\"overlay\":{\"id\":\"2429\",\"type\":\"BoxAnnotation\"}},\"id\":\"2349\",\"type\":\"BoxZoomTool\"},{\"attributes\":{\"data_source\":{\"id\":\"2239\",\"type\":\"ColumnDataSource\"},\"glyph\":{\"id\":\"2240\",\"type\":\"Quad\"},\"hover_glyph\":null,\"muted_glyph\":null,\"nonselection_glyph\":{\"id\":\"2241\",\"type\":\"Quad\"},\"selection_glyph\":null,\"view\":{\"id\":\"2243\",\"type\":\"CDSView\"}},\"id\":\"2242\",\"type\":\"GlyphRenderer\"},{\"attributes\":{},\"id\":\"2065\",\"type\":\"HelpTool\"},{\"attributes\":{\"bottom\":{\"value\":0},\"fill_alpha\":{\"value\":0.5},\"fill_color\":{\"value\":\"#1f77b4\"},\"left\":{\"field\":\"left\"},\"line_alpha\":{\"value\":0.5},\"line_color\":{\"value\":\"white\"},\"right\":{\"field\":\"right\"},\"top\":{\"field\":\"top\"}},\"id\":\"2076\",\"type\":\"Quad\"},{\"attributes\":{},\"id\":\"2410\",\"type\":\"BasicTickFormatter\"},{\"attributes\":{},\"id\":\"2297\",\"type\":\"BasicTicker\"},{\"attributes\":{},\"id\":\"2350\",\"type\":\"SaveTool\"},{\"attributes\":{\"axis_label\":\"Actions\",\"formatter\":{\"id\":\"2386\",\"type\":\"BasicTickFormatter\"},\"major_label_overrides\":{\"0.3333333333333333\":\"0\",\"1.0\":\"1\",\"1.6666666666666665\":\"2\"},\"ticker\":{\"id\":\"2155\",\"type\":\"FixedTicker\"}},\"id\":\"2132\",\"type\":\"LinearAxis\"},{\"attributes\":{\"ticker\":{\"id\":\"2297\",\"type\":\"BasicTicker\"},\"visible\":false},\"id\":\"2300\",\"type\":\"Grid\"},{\"attributes\":{\"source\":{\"id\":\"2239\",\"type\":\"ColumnDataSource\"}},\"id\":\"2243\",\"type\":\"CDSView\"},{\"attributes\":{},\"id\":\"2411\",\"type\":\"Selection\"},{\"attributes\":{\"below\":[{\"id\":\"2255\",\"type\":\"LinearAxis\"}],\"center\":[{\"id\":\"2259\",\"type\":\"Grid\"},{\"id\":\"2264\",\"type\":\"Grid\"}],\"left\":[{\"id\":\"2260\",\"type\":\"LinearAxis\"}],\"plot_height\":250,\"plot_width\":250,\"renderers\":[{\"id\":\"2283\",\"type\":\"GlyphRenderer\"}],\"title\":{\"id\":\"2245\",\"type\":\"Title\"},\"toolbar\":{\"id\":\"2271\",\"type\":\"Toolbar\"},\"toolbar_location\":null,\"x_range\":{\"id\":\"2247\",\"type\":\"DataRange1d\"},\"x_scale\":{\"id\":\"2251\",\"type\":\"LinearScale\"},\"y_range\":{\"id\":\"2249\",\"type\":\"DataRange1d\"},\"y_scale\":{\"id\":\"2253\",\"type\":\"LinearScale\"}},\"id\":\"2244\",\"subtype\":\"Figure\",\"type\":\"Plot\"},{\"attributes\":{},\"id\":\"2351\",\"type\":\"ResetTool\"},{\"attributes\":{\"axis_label\":\"Action Distribution\",\"formatter\":{\"id\":\"2416\",\"type\":\"BasicTickFormatter\"},\"ticker\":{\"id\":\"2302\",\"type\":\"BasicTicker\"}},\"id\":\"2301\",\"type\":\"LinearAxis\"},{\"attributes\":{\"axis_label\":\"Actions\",\"formatter\":{\"id\":\"2370\",\"type\":\"BasicTickFormatter\"},\"major_label_overrides\":{\"0.3333333333333333\":\"0\",\"1.0\":\"1\",\"1.6666666666666665\":\"2\"},\"ticker\":{\"id\":\"2073\",\"type\":\"FixedTicker\"}},\"id\":\"2050\",\"type\":\"LinearAxis\"},{\"attributes\":{\"bottom\":{\"value\":0},\"fill_alpha\":{\"value\":0.1},\"fill_color\":{\"value\":\"#1f77b4\"},\"left\":{\"field\":\"left\"},\"line_alpha\":{\"value\":0.1},\"line_color\":{\"value\":\"#1f77b4\"},\"right\":{\"field\":\"right\"},\"top\":{\"field\":\"top\"}},\"id\":\"2077\",\"type\":\"Quad\"},{\"attributes\":{},\"id\":\"2133\",\"type\":\"BasicTicker\"},{\"attributes\":{},\"id\":\"2412\",\"type\":\"UnionRenderers\"},{\"attributes\":{},\"id\":\"2352\",\"type\":\"HelpTool\"},{\"attributes\":{\"data_source\":{\"id\":\"2075\",\"type\":\"ColumnDataSource\"},\"glyph\":{\"id\":\"2076\",\"type\":\"Quad\"},\"hover_glyph\":null,\"muted_glyph\":null,\"nonselection_glyph\":{\"id\":\"2077\",\"type\":\"Quad\"},\"selection_glyph\":null,\"view\":{\"id\":\"2079\",\"type\":\"CDSView\"}},\"id\":\"2078\",\"type\":\"GlyphRenderer\"},{\"attributes\":{\"ticker\":{\"id\":\"2133\",\"type\":\"BasicTicker\"},\"visible\":false},\"id\":\"2136\",\"type\":\"Grid\"},{\"attributes\":{\"text\":\"obs = [ 0.33403888 -0.06200205]\"},\"id\":\"2245\",\"type\":\"Title\"},{\"attributes\":{\"bottom_units\":\"screen\",\"fill_alpha\":{\"value\":0.5},\"fill_color\":{\"value\":\"lightgrey\"},\"left_units\":\"screen\",\"level\":\"overlay\",\"line_alpha\":{\"value\":1.0},\"line_color\":{\"value\":\"black\"},\"line_dash\":[4,4],\"line_width\":{\"value\":2},\"render_mode\":\"css\",\"right_units\":\"screen\",\"top_units\":\"screen\"},\"id\":\"2413\",\"type\":\"BoxAnnotation\"},{\"attributes\":{},\"id\":\"2302\",\"type\":\"BasicTicker\"},{\"attributes\":{\"axis_label\":\"Action Distribution\",\"formatter\":{\"id\":\"2384\",\"type\":\"BasicTickFormatter\"},\"ticker\":{\"id\":\"2138\",\"type\":\"BasicTicker\"}},\"id\":\"2137\",\"type\":\"LinearAxis\"},{\"attributes\":{\"dimension\":1,\"ticker\":{\"id\":\"2302\",\"type\":\"BasicTicker\"}},\"id\":\"2305\",\"type\":\"Grid\"},{\"attributes\":{\"source\":{\"id\":\"2075\",\"type\":\"ColumnDataSource\"}},\"id\":\"2079\",\"type\":\"CDSView\"},{\"attributes\":{\"callback\":null},\"id\":\"2247\",\"type\":\"DataRange1d\"},{\"attributes\":{},\"id\":\"2416\",\"type\":\"BasicTickFormatter\"},{\"attributes\":{},\"id\":\"2138\",\"type\":\"BasicTicker\"},{\"attributes\":{\"ticks\":[0.3333333333333333,1.0,1.6666666666666665]},\"id\":\"2319\",\"type\":\"FixedTicker\"},{\"attributes\":{\"bottom\":{\"value\":0},\"fill_alpha\":{\"value\":0.5},\"fill_color\":{\"value\":\"#1f77b4\"},\"left\":{\"field\":\"left\"},\"line_alpha\":{\"value\":0.5},\"line_color\":{\"value\":\"white\"},\"right\":{\"field\":\"right\"},\"top\":{\"field\":\"top\"}},\"id\":\"2363\",\"type\":\"Quad\"},{\"attributes\":{\"text\":\"obs = [0.05007643 0.03677168]\"},\"id\":\"2081\",\"type\":\"Title\"},{\"attributes\":{\"callback\":null},\"id\":\"2249\",\"type\":\"DataRange1d\"},{\"attributes\":{},\"id\":\"2418\",\"type\":\"BasicTickFormatter\"},{\"attributes\":{\"dimension\":1,\"ticker\":{\"id\":\"2138\",\"type\":\"BasicTicker\"}},\"id\":\"2141\",\"type\":\"Grid\"},{\"attributes\":{\"callback\":null,\"data\":{\"left\":{\"__ndarray__\":\"AAAAAAAAAABVVVVVVVXlP1VVVVVVVfU/\",\"dtype\":\"float64\",\"shape\":[3]},\"right\":{\"__ndarray__\":\"VVVVVVVV5T9VVVVVVVX1PwAAAAAAAABA\",\"dtype\":\"float64\",\"shape\":[3]},\"top\":{\"__ndarray__\":\"0SLb+X5q4D+R7Xw/NV7gPzrfT42Xbt4/\",\"dtype\":\"float64\",\"shape\":[3]}},\"selected\":{\"id\":\"2419\",\"type\":\"Selection\"},\"selection_policy\":{\"id\":\"2420\",\"type\":\"UnionRenderers\"}},\"id\":\"2321\",\"type\":\"ColumnDataSource\"},{\"attributes\":{\"callback\":null},\"id\":\"2083\",\"type\":\"DataRange1d\"},{\"attributes\":{},\"id\":\"2251\",\"type\":\"LinearScale\"},{\"attributes\":{\"bottom\":{\"value\":0},\"fill_alpha\":{\"value\":0.1},\"fill_color\":{\"value\":\"#1f77b4\"},\"left\":{\"field\":\"left\"},\"line_alpha\":{\"value\":0.1},\"line_color\":{\"value\":\"#1f77b4\"},\"right\":{\"field\":\"right\"},\"top\":{\"field\":\"top\"}},\"id\":\"2364\",\"type\":\"Quad\"},{\"attributes\":{},\"id\":\"2419\",\"type\":\"Selection\"},{\"attributes\":{\"active_drag\":\"auto\",\"active_inspect\":\"auto\",\"active_multi\":null,\"active_scroll\":\"auto\",\"active_tap\":\"auto\",\"tools\":[{\"id\":\"2306\",\"type\":\"PanTool\"},{\"id\":\"2307\",\"type\":\"WheelZoomTool\"},{\"id\":\"2308\",\"type\":\"BoxZoomTool\"},{\"id\":\"2309\",\"type\":\"SaveTool\"},{\"id\":\"2310\",\"type\":\"ResetTool\"},{\"id\":\"2311\",\"type\":\"HelpTool\"}]},\"id\":\"2312\",\"type\":\"Toolbar\"},{\"attributes\":{\"ticks\":[0.3333333333333333,1.0,1.6666666666666665]},\"id\":\"2155\",\"type\":\"FixedTicker\"},{\"attributes\":{},\"id\":\"2306\",\"type\":\"PanTool\"},{\"attributes\":{\"callback\":null},\"id\":\"2085\",\"type\":\"DataRange1d\"},{\"attributes\":{},\"id\":\"2253\",\"type\":\"LinearScale\"},{\"attributes\":{\"data_source\":{\"id\":\"2362\",\"type\":\"ColumnDataSource\"},\"glyph\":{\"id\":\"2363\",\"type\":\"Quad\"},\"hover_glyph\":null,\"muted_glyph\":null,\"nonselection_glyph\":{\"id\":\"2364\",\"type\":\"Quad\"},\"selection_glyph\":null,\"view\":{\"id\":\"2366\",\"type\":\"CDSView\"}},\"id\":\"2365\",\"type\":\"GlyphRenderer\"},{\"attributes\":{\"callback\":null,\"data\":{\"left\":{\"__ndarray__\":\"AAAAAAAAAABVVVVVVVXlP1VVVVVVVfU/\",\"dtype\":\"float64\",\"shape\":[3]},\"right\":{\"__ndarray__\":\"VVVVVVVV5T9VVVVVVVX1PwAAAAAAAABA\",\"dtype\":\"float64\",\"shape\":[3]},\"top\":{\"__ndarray__\":\"EoPAyqFF4D8tsp3vp8bfP61H4XoUrt8/\",\"dtype\":\"float64\",\"shape\":[3]}},\"selected\":{\"id\":\"2387\",\"type\":\"Selection\"},\"selection_policy\":{\"id\":\"2388\",\"type\":\"UnionRenderers\"}},\"id\":\"2157\",\"type\":\"ColumnDataSource\"},{\"attributes\":{},\"id\":\"2420\",\"type\":\"UnionRenderers\"},{\"attributes\":{},\"id\":\"2307\",\"type\":\"WheelZoomTool\"},{\"attributes\":{},\"id\":\"2087\",\"type\":\"LinearScale\"},{\"attributes\":{\"axis_label\":\"Actions\",\"formatter\":{\"id\":\"2410\",\"type\":\"BasicTickFormatter\"},\"major_label_overrides\":{\"0.3333333333333333\":\"0\",\"1.0\":\"1\",\"1.6666666666666665\":\"2\"},\"ticker\":{\"id\":\"2278\",\"type\":\"FixedTicker\"}},\"id\":\"2255\",\"type\":\"LinearAxis\"},{\"attributes\":{\"bottom_units\":\"screen\",\"fill_alpha\":{\"value\":0.5},\"fill_color\":{\"value\":\"lightgrey\"},\"left_units\":\"screen\",\"level\":\"overlay\",\"line_alpha\":{\"value\":1.0},\"line_color\":{\"value\":\"black\"},\"line_dash\":[4,4],\"line_width\":{\"value\":2},\"render_mode\":\"css\",\"right_units\":\"screen\",\"top_units\":\"screen\"},\"id\":\"2421\",\"type\":\"BoxAnnotation\"},{\"attributes\":{\"active_drag\":\"auto\",\"active_inspect\":\"auto\",\"active_multi\":null,\"active_scroll\":\"auto\",\"active_tap\":\"auto\",\"tools\":[{\"id\":\"2142\",\"type\":\"PanTool\"},{\"id\":\"2143\",\"type\":\"WheelZoomTool\"},{\"id\":\"2144\",\"type\":\"BoxZoomTool\"},{\"id\":\"2145\",\"type\":\"SaveTool\"},{\"id\":\"2146\",\"type\":\"ResetTool\"},{\"id\":\"2147\",\"type\":\"HelpTool\"}]},\"id\":\"2148\",\"type\":\"Toolbar\"},{\"attributes\":{\"source\":{\"id\":\"2362\",\"type\":\"ColumnDataSource\"}},\"id\":\"2366\",\"type\":\"CDSView\"},{\"attributes\":{\"children\":[[{\"id\":\"2039\",\"subtype\":\"Figure\",\"type\":\"Plot\"},0,0],[{\"id\":\"2080\",\"subtype\":\"Figure\",\"type\":\"Plot\"},0,1],[{\"id\":\"2121\",\"subtype\":\"Figure\",\"type\":\"Plot\"},0,2],[{\"id\":\"2162\",\"subtype\":\"Figure\",\"type\":\"Plot\"},0,3],[{\"id\":\"2203\",\"subtype\":\"Figure\",\"type\":\"Plot\"},1,0],[{\"id\":\"2244\",\"subtype\":\"Figure\",\"type\":\"Plot\"},1,1],[{\"id\":\"2285\",\"subtype\":\"Figure\",\"type\":\"Plot\"},1,2],[{\"id\":\"2326\",\"subtype\":\"Figure\",\"type\":\"Plot\"},1,3]]},\"id\":\"2431\",\"type\":\"GridBox\"},{\"attributes\":{},\"id\":\"2142\",\"type\":\"PanTool\"},{\"attributes\":{\"overlay\":{\"id\":\"2421\",\"type\":\"BoxAnnotation\"}},\"id\":\"2308\",\"type\":\"BoxZoomTool\"},{\"attributes\":{},\"id\":\"2089\",\"type\":\"LinearScale\"},{\"attributes\":{},\"id\":\"2256\",\"type\":\"BasicTicker\"},{\"attributes\":{},\"id\":\"2424\",\"type\":\"BasicTickFormatter\"},{\"attributes\":{\"axis_label\":\"Actions\",\"formatter\":{\"id\":\"2378\",\"type\":\"BasicTickFormatter\"},\"major_label_overrides\":{\"0.3333333333333333\":\"0\",\"1.0\":\"1\",\"1.6666666666666665\":\"2\"},\"ticker\":{\"id\":\"2114\",\"type\":\"FixedTicker\"}},\"id\":\"2091\",\"type\":\"LinearAxis\"},{\"attributes\":{},\"id\":\"2143\",\"type\":\"WheelZoomTool\"},{\"attributes\":{},\"id\":\"2309\",\"type\":\"SaveTool\"},{\"attributes\":{\"ticker\":{\"id\":\"2256\",\"type\":\"BasicTicker\"},\"visible\":false},\"id\":\"2259\",\"type\":\"Grid\"},{\"attributes\":{},\"id\":\"2368\",\"type\":\"BasicTickFormatter\"},{\"attributes\":{},\"id\":\"2426\",\"type\":\"BasicTickFormatter\"},{\"attributes\":{\"overlay\":{\"id\":\"2389\",\"type\":\"BoxAnnotation\"}},\"id\":\"2144\",\"type\":\"BoxZoomTool\"},{\"attributes\":{},\"id\":\"2310\",\"type\":\"ResetTool\"},{\"attributes\":{\"axis_label\":\"Action Distribution\",\"formatter\":{\"id\":\"2408\",\"type\":\"BasicTickFormatter\"},\"ticker\":{\"id\":\"2261\",\"type\":\"BasicTicker\"}},\"id\":\"2260\",\"type\":\"LinearAxis\"},{\"attributes\":{},\"id\":\"2370\",\"type\":\"BasicTickFormatter\"},{\"attributes\":{},\"id\":\"2092\",\"type\":\"BasicTicker\"},{\"attributes\":{},\"id\":\"2427\",\"type\":\"Selection\"},{\"attributes\":{},\"id\":\"2145\",\"type\":\"SaveTool\"},{\"attributes\":{},\"id\":\"2311\",\"type\":\"HelpTool\"},{\"attributes\":{\"ticker\":{\"id\":\"2092\",\"type\":\"BasicTicker\"},\"visible\":false},\"id\":\"2095\",\"type\":\"Grid\"},{\"attributes\":{\"data_source\":{\"id\":\"2157\",\"type\":\"ColumnDataSource\"},\"glyph\":{\"id\":\"2158\",\"type\":\"Quad\"},\"hover_glyph\":null,\"muted_glyph\":null,\"nonselection_glyph\":{\"id\":\"2159\",\"type\":\"Quad\"},\"selection_glyph\":null,\"view\":{\"id\":\"2161\",\"type\":\"CDSView\"}},\"id\":\"2160\",\"type\":\"GlyphRenderer\"},{\"attributes\":{},\"id\":\"2261\",\"type\":\"BasicTicker\"},{\"attributes\":{},\"id\":\"2371\",\"type\":\"Selection\"},{\"attributes\":{},\"id\":\"2428\",\"type\":\"UnionRenderers\"},{\"attributes\":{},\"id\":\"2146\",\"type\":\"ResetTool\"},{\"attributes\":{\"axis_label\":\"Action Distribution\",\"formatter\":{\"id\":\"2376\",\"type\":\"BasicTickFormatter\"},\"ticker\":{\"id\":\"2097\",\"type\":\"BasicTicker\"}},\"id\":\"2096\",\"type\":\"LinearAxis\"},{\"attributes\":{\"dimension\":1,\"ticker\":{\"id\":\"2261\",\"type\":\"BasicTicker\"}},\"id\":\"2264\",\"type\":\"Grid\"},{\"attributes\":{\"bottom_units\":\"screen\",\"fill_alpha\":{\"value\":0.5},\"fill_color\":{\"value\":\"lightgrey\"},\"left_units\":\"screen\",\"level\":\"overlay\",\"line_alpha\":{\"value\":1.0},\"line_color\":{\"value\":\"black\"},\"line_dash\":[4,4],\"line_width\":{\"value\":2},\"render_mode\":\"css\",\"right_units\":\"screen\",\"top_units\":\"screen\"},\"id\":\"2429\",\"type\":\"BoxAnnotation\"},{\"attributes\":{},\"id\":\"2372\",\"type\":\"UnionRenderers\"},{\"attributes\":{\"tools\":[{\"id\":\"2060\",\"type\":\"PanTool\"},{\"id\":\"2061\",\"type\":\"WheelZoomTool\"},{\"id\":\"2062\",\"type\":\"BoxZoomTool\"},{\"id\":\"2063\",\"type\":\"SaveTool\"},{\"id\":\"2064\",\"type\":\"ResetTool\"},{\"id\":\"2065\",\"type\":\"HelpTool\"},{\"id\":\"2101\",\"type\":\"PanTool\"},{\"id\":\"2102\",\"type\":\"WheelZoomTool\"},{\"id\":\"2103\",\"type\":\"BoxZoomTool\"},{\"id\":\"2104\",\"type\":\"SaveTool\"},{\"id\":\"2105\",\"type\":\"ResetTool\"},{\"id\":\"2106\",\"type\":\"HelpTool\"},{\"id\":\"2142\",\"type\":\"PanTool\"},{\"id\":\"2143\",\"type\":\"WheelZoomTool\"},{\"id\":\"2144\",\"type\":\"BoxZoomTool\"},{\"id\":\"2145\",\"type\":\"SaveTool\"},{\"id\":\"2146\",\"type\":\"ResetTool\"},{\"id\":\"2147\",\"type\":\"HelpTool\"},{\"id\":\"2183\",\"type\":\"PanTool\"},{\"id\":\"2184\",\"type\":\"WheelZoomTool\"},{\"id\":\"2185\",\"type\":\"BoxZoomTool\"},{\"id\":\"2186\",\"type\":\"SaveTool\"},{\"id\":\"2187\",\"type\":\"ResetTool\"},{\"id\":\"2188\",\"type\":\"HelpTool\"},{\"id\":\"2224\",\"type\":\"PanTool\"},{\"id\":\"2225\",\"type\":\"WheelZoomTool\"},{\"id\":\"2226\",\"type\":\"BoxZoomTool\"},{\"id\":\"2227\",\"type\":\"SaveTool\"},{\"id\":\"2228\",\"type\":\"ResetTool\"},{\"id\":\"2229\",\"type\":\"HelpTool\"},{\"id\":\"2265\",\"type\":\"PanTool\"},{\"id\":\"2266\",\"type\":\"WheelZoomTool\"},{\"id\":\"2267\",\"type\":\"BoxZoomTool\"},{\"id\":\"2268\",\"type\":\"SaveTool\"},{\"id\":\"2269\",\"type\":\"ResetTool\"},{\"id\":\"2270\",\"type\":\"HelpTool\"},{\"id\":\"2306\",\"type\":\"PanTool\"},{\"id\":\"2307\",\"type\":\"WheelZoomTool\"},{\"id\":\"2308\",\"type\":\"BoxZoomTool\"},{\"id\":\"2309\",\"type\":\"SaveTool\"},{\"id\":\"2310\",\"type\":\"ResetTool\"},{\"id\":\"2311\",\"type\":\"HelpTool\"},{\"id\":\"2347\",\"type\":\"PanTool\"},{\"id\":\"2348\",\"type\":\"WheelZoomTool\"},{\"id\":\"2349\",\"type\":\"BoxZoomTool\"},{\"id\":\"2350\",\"type\":\"SaveTool\"},{\"id\":\"2351\",\"type\":\"ResetTool\"},{\"id\":\"2352\",\"type\":\"HelpTool\"}]},\"id\":\"2432\",\"type\":\"ProxyToolbar\"},{\"attributes\":{},\"id\":\"2147\",\"type\":\"HelpTool\"},{\"attributes\":{\"bottom_units\":\"screen\",\"fill_alpha\":{\"value\":0.5},\"fill_color\":{\"value\":\"lightgrey\"},\"left_units\":\"screen\",\"level\":\"overlay\",\"line_alpha\":{\"value\":1.0},\"line_color\":{\"value\":\"black\"},\"line_dash\":[4,4],\"line_width\":{\"value\":2},\"render_mode\":\"css\",\"right_units\":\"screen\",\"top_units\":\"screen\"},\"id\":\"2373\",\"type\":\"BoxAnnotation\"},{\"attributes\":{},\"id\":\"2097\",\"type\":\"BasicTicker\"},{\"attributes\":{\"ticks\":[0.3333333333333333,1.0,1.6666666666666665]},\"id\":\"2278\",\"type\":\"FixedTicker\"},{\"attributes\":{\"bottom\":{\"value\":0},\"fill_alpha\":{\"value\":0.5},\"fill_color\":{\"value\":\"#1f77b4\"},\"left\":{\"field\":\"left\"},\"line_alpha\":{\"value\":0.5},\"line_color\":{\"value\":\"white\"},\"right\":{\"field\":\"right\"},\"top\":{\"field\":\"top\"}},\"id\":\"2322\",\"type\":\"Quad\"},{\"attributes\":{\"toolbar\":{\"id\":\"2432\",\"type\":\"ProxyToolbar\"},\"toolbar_location\":\"above\"},\"id\":\"2433\",\"type\":\"ToolbarBox\"},{\"attributes\":{\"dimension\":1,\"ticker\":{\"id\":\"2097\",\"type\":\"BasicTicker\"}},\"id\":\"2100\",\"type\":\"Grid\"},{\"attributes\":{},\"id\":\"2376\",\"type\":\"BasicTickFormatter\"},{\"attributes\":{\"callback\":null,\"data\":{\"left\":{\"__ndarray__\":\"AAAAAAAAAABVVVVVVVXlP1VVVVVVVfU/\",\"dtype\":\"float64\",\"shape\":[3]},\"right\":{\"__ndarray__\":\"VVVVVVVV5T9VVVVVVVX1PwAAAAAAAABA\",\"dtype\":\"float64\",\"shape\":[3]},\"top\":{\"__ndarray__\":\"K4cW2c733z/RItv5fmrgPzIzMzMzM98/\",\"dtype\":\"float64\",\"shape\":[3]}},\"selected\":{\"id\":\"2411\",\"type\":\"Selection\"},\"selection_policy\":{\"id\":\"2412\",\"type\":\"UnionRenderers\"}},\"id\":\"2280\",\"type\":\"ColumnDataSource\"},{\"attributes\":{\"bottom\":{\"value\":0},\"fill_alpha\":{\"value\":0.1},\"fill_color\":{\"value\":\"#1f77b4\"},\"left\":{\"field\":\"left\"},\"line_alpha\":{\"value\":0.1},\"line_color\":{\"value\":\"#1f77b4\"},\"right\":{\"field\":\"right\"},\"top\":{\"field\":\"top\"}},\"id\":\"2323\",\"type\":\"Quad\"},{\"attributes\":{},\"id\":\"2378\",\"type\":\"BasicTickFormatter\"},{\"attributes\":{\"ticks\":[0.3333333333333333,1.0,1.6666666666666665]},\"id\":\"2114\",\"type\":\"FixedTicker\"},{\"attributes\":{\"bottom\":{\"value\":0},\"fill_alpha\":{\"value\":0.5},\"fill_color\":{\"value\":\"#1f77b4\"},\"left\":{\"field\":\"left\"},\"line_alpha\":{\"value\":0.5},\"line_color\":{\"value\":\"white\"},\"right\":{\"field\":\"right\"},\"top\":{\"field\":\"top\"}},\"id\":\"2158\",\"type\":\"Quad\"},{\"attributes\":{},\"id\":\"2265\",\"type\":\"PanTool\"},{\"attributes\":{\"data_source\":{\"id\":\"2321\",\"type\":\"ColumnDataSource\"},\"glyph\":{\"id\":\"2322\",\"type\":\"Quad\"},\"hover_glyph\":null,\"muted_glyph\":null,\"nonselection_glyph\":{\"id\":\"2323\",\"type\":\"Quad\"},\"selection_glyph\":null,\"view\":{\"id\":\"2325\",\"type\":\"CDSView\"}},\"id\":\"2324\",\"type\":\"GlyphRenderer\"},{\"attributes\":{\"callback\":null,\"data\":{\"left\":{\"__ndarray__\":\"AAAAAAAAAABVVVVVVVXlP1VVVVVVVfU/\",\"dtype\":\"float64\",\"shape\":[3]},\"right\":{\"__ndarray__\":\"VVVVVVVV5T9VVVVVVVX1PwAAAAAAAABA\",\"dtype\":\"float64\",\"shape\":[3]},\"top\":{\"__ndarray__\":\"MzMzMzMz3z81XrpJDALfP0s3iUFg5eA/\",\"dtype\":\"float64\",\"shape\":[3]}},\"selected\":{\"id\":\"2379\",\"type\":\"Selection\"},\"selection_policy\":{\"id\":\"2380\",\"type\":\"UnionRenderers\"}},\"id\":\"2116\",\"type\":\"ColumnDataSource\"},{\"attributes\":{},\"id\":\"2379\",\"type\":\"Selection\"},{\"attributes\":{},\"id\":\"2266\",\"type\":\"WheelZoomTool\"},{\"attributes\":{\"bottom\":{\"value\":0},\"fill_alpha\":{\"value\":0.1},\"fill_color\":{\"value\":\"#1f77b4\"},\"left\":{\"field\":\"left\"},\"line_alpha\":{\"value\":0.1},\"line_color\":{\"value\":\"#1f77b4\"},\"right\":{\"field\":\"right\"},\"top\":{\"field\":\"top\"}},\"id\":\"2159\",\"type\":\"Quad\"},{\"attributes\":{\"source\":{\"id\":\"2321\",\"type\":\"ColumnDataSource\"}},\"id\":\"2325\",\"type\":\"CDSView\"},{\"attributes\":{},\"id\":\"2380\",\"type\":\"UnionRenderers\"},{\"attributes\":{\"overlay\":{\"id\":\"2413\",\"type\":\"BoxAnnotation\"}},\"id\":\"2267\",\"type\":\"BoxZoomTool\"}],\"root_ids\":[\"2434\"]},\"title\":\"Bokeh Application\",\"version\":\"1.4.0\"}};\n",
       "  var render_items = [{\"docid\":\"c940cc92-a2dc-45f1-b507-acdbeca3af05\",\"roots\":{\"2434\":\"b492fe7b-939f-42ea-8749-2d22d6d13ab5\"}}];\n",
       "  root.Bokeh.embed.embed_items_notebook(docs_json, render_items);\n",
       "\n",
       "  }\n",
       "  if (root.Bokeh !== undefined) {\n",
       "    embed_document(root);\n",
       "  } else {\n",
       "    var attempts = 0;\n",
       "    var timer = setInterval(function(root) {\n",
       "      if (root.Bokeh !== undefined) {\n",
       "        clearInterval(timer);\n",
       "        embed_document(root);\n",
       "      } else {\n",
       "        attempts++;\n",
       "        if (attempts > 100) {\n",
       "          clearInterval(timer);\n",
       "          console.log(\"Bokeh: ERROR: Unable to run BokehJS code because BokehJS library is missing\");\n",
       "        }\n",
       "      }\n",
       "    }, 10, root)\n",
       "  }\n",
       "})(window);"
      ],
      "application/vnd.bokehjs_exec.v0+json": ""
     },
     "metadata": {
      "application/vnd.bokehjs_exec.v0+json": {
       "id": "2434"
      }
     },
     "output_type": "display_data"
    }
   ],
   "source": [
    "plot_action_distribution(agent)"
   ]
  },
  {
   "cell_type": "markdown",
   "metadata": {},
   "source": [
    "## 3. Ciclo de Interação Agente-Ambiente\n",
    "\n",
    "Após entender a API do OpenAI Gym e se familiarizar com a interface geral de um agente de RL, estamos pronto para programar o ciclo de interação Agente-Ambiente.\n",
    "\n",
    "Note que tanto o *treinamento* como a *avaliação de performance* de agentes de RL (baseados em simuladores) dependem da coleta de experiências a fim de estimar uma diferentes grandezas que são necessárias nos algoritmos de RL (e.g., retorno de episódios, gradientes de políticas, ...).\n",
    "\n",
    "Esse é o objetivo principal do ciclo de interação com o ambiente: permitir ao agente explorar o ambiente e coletar dados para seu aprendizado.\n",
    "\n",
    "> **Atenção**: Praticamente todos os pacotes de RL disponíveis implementam uma versão desse loop de interação. Dessa forma, independentemente se seu objetivo é desenvolver sua própria biblioteca de RL ou apenas re-utilizar código pré-existente, é importante entender os principais conceitos envolvidos!"
   ]
  },
  {
   "cell_type": "markdown",
   "metadata": {},
   "source": [
    "Nessa seção testaremos a política aleatória em uma outra versão do ambiente MountainCar:"
   ]
  },
  {
   "cell_type": "code",
   "execution_count": 59,
   "metadata": {},
   "outputs": [],
   "source": [
    "env = gym.make(\"MountainCarContinuous-v0\")\n",
    "agent = RandomPolicy(env.observation_space, env.action_space)"
   ]
  },
  {
   "cell_type": "markdown",
   "metadata": {},
   "source": [
    "---\n",
    "\n",
    "**<font color=\"red\">EXERCÍCIO-PROGRAMA 1:</font>**\n",
    "\n",
    "Nesse exercício você deverá utilizar os métodos da API do Gym a fim de permitir que um agente de RL simule um episódio. Complete a função `sample_episode` com seu código e preste atenção para retornar as variáveis definidas na documentação. Caso necessário revise a <a href=\"/lab#1.2-Interface-do-Gym:-métodos-reset(),-step()-e-render()\" target=\"_self\">Seção 1.2</a>.\n",
    "\n",
    ">**Atenção**: Para visualizar o episódio não se esqueça de chamar `env.render()` durante a simulação da trajetória. Use a flag `render` em um *if-statement* do Python para dinamicamente habilitar a visualização. Uma vez que a parte gráfica consome muito tempo, é comum desabilitar a renderização do ambiente durante o treinamento e avaliação de um agente de RL. Além disso, chame `env.close()` ao final do ciclo para fechar a janela de simulação."
   ]
  },
  {
   "cell_type": "code",
   "execution_count": 60,
   "metadata": {},
   "outputs": [],
   "source": [
    "def sample_episode(agent, env, render=False):\n",
    "    \"\"\"\n",
    "    Simula um episódio completo de interação do agente com o ambiente.\n",
    "    \n",
    "    Args:\n",
    "        agent (RLAgent):       agente responsável por retornar ações.\n",
    "        env (gym.Environment): simulador de ambiente do OpenAI Gym.\n",
    "        render (bool):         (opcional) flag para habilitar a renderização do ambiente.\n",
    "        \n",
    "    Return:\n",
    "        (total_reward, episode_length): retorno obtido pelo agente no episódio e\n",
    "        número de passos de decisão realizados no episódio.\n",
    "    \"\"\"\n",
    "    total_reward = 0.0\n",
    "    episode_length = 0\n",
    "\n",
    "    # YOUR CODE HERE =====================================\n",
    "        \n",
    "    done = False\n",
    "    obs = env.reset()\n",
    "    \n",
    "    while episode_length < env.spec.max_episode_steps and not done:\n",
    "\n",
    "        action = agent.act(obs)\n",
    "        \n",
    "        obs, reward, done, info = env.step(action)\n",
    "        \n",
    "        episode_length += 1\n",
    "        total_reward += reward\n",
    "        if render:\n",
    "            env.render()\n",
    "    \n",
    "    env.close()\n",
    "    \n",
    "    # ===================================================\n",
    "\n",
    "    return total_reward, episode_length\n"
   ]
  },
  {
   "cell_type": "markdown",
   "metadata": {},
   "source": [
    "Execute o código abaixo para testar a sua implementação."
   ]
  },
  {
   "cell_type": "code",
   "execution_count": 61,
   "metadata": {},
   "outputs": [
    {
     "name": "stdout",
     "output_type": "stream",
     "text": [
      "return = -31.9189, passos de decisão = 999\r"
     ]
    }
   ],
   "source": [
    "total_reward, episode_length = sample_episode(agent, env, render=True)\n",
    "print(f\"return = {total_reward:.4f}, passos de decisão = {episode_length}\\r\", end=\"\")"
   ]
  },
  {
   "cell_type": "markdown",
   "metadata": {},
   "source": [
    "A menos que você tenha tido sorte na simulação, você deve ter observado que o carro nunca chega próximo à linha de chegada. :(\n",
    "\n",
    "Não se preocupe vamos resolver isso nas próximas aulas!"
   ]
  },
  {
   "cell_type": "markdown",
   "metadata": {},
   "source": [
    "---"
   ]
  },
  {
   "cell_type": "markdown",
   "metadata": {},
   "source": [
    "Uma vez implementado a função `sample_episode` você pode amostrar diferentes trajetórias com a função `run` definida abaixo:"
   ]
  },
  {
   "cell_type": "code",
   "execution_count": 62,
   "metadata": {},
   "outputs": [],
   "source": [
    "def run(agent, env, num_episodes):\n",
    "    episode_returns, episode_lengths = [], []\n",
    "\n",
    "    for episode in range(num_episodes):\n",
    "        total_reward, episode_length = sample_episode(agent, env)\n",
    "    \n",
    "        episode_returns.append(total_reward)\n",
    "        episode_lengths.append(episode_length)\n",
    "\n",
    "        if episode % 10 == 0:\n",
    "            print(f\"episode = {episode}, return = {total_reward:.4f}, length = {episode_length}\\r\", end=\"\")\n",
    "\n",
    "    return episode_returns, episode_lengths\n",
    "    "
   ]
  },
  {
   "cell_type": "markdown",
   "metadata": {},
   "source": [
    "Execute o código abaixo para simular `NUM_EPISODES` trajetórias:"
   ]
  },
  {
   "cell_type": "code",
   "execution_count": null,
   "metadata": {},
   "outputs": [
    {
     "name": "stdout",
     "output_type": "stream",
     "text": [
      "episode = 50, return = -34.4758, length = 999\r"
     ]
    }
   ],
   "source": [
    "NUM_EPISODES = 200\n",
    "\n",
    "episode_returns, episode_lengths = run(agent, env, NUM_EPISODES)\n",
    "\n",
    "plot_episode_total_rewards(episode_returns)"
   ]
  },
  {
   "cell_type": "markdown",
   "metadata": {},
   "source": [
    "> **Atenção**: se você obteve um pico de retorno com um valor positivo (i.e., *outlier*), execute novamente a simulação. Caso contrário, você deve ter obtido um retorno médio (vide linha vermelha) entre -34 e -33 para `NUM_EPISODES==200`."
   ]
  },
  {
   "cell_type": "markdown",
   "metadata": {},
   "source": [
    "---\n",
    "\n",
    "**<font color=\"red\">QUESTÕES:</font>**\n",
    "\n",
    "1. Qual a diferença entre o ambiente `MountainCar-v0` utilizado como exemplo na <a href=\"/lab#1.-Ambientes-no-OpenAI-Gym\" target=\"_self\">Seção 1</a> e o ambiente `MountainCarContinuous-v0` que você acabou de simular?\n",
    "2. Como você interpreta os gráficos acima `Episode Return` e `Episode Return (Histogram)` ? Como você explicaria essas variações ruidosas da recompensa total?\n",
    "3. Se você executar a simulação várias vezes, obterá resultados ligeiramente diferentes? Ao que se deve essa incerteza nos resultados?\n",
    "4. Você diria que o agente aleatório obteve uma boa performance? *Dica*: relacione os resultados obtidos com a especificação do ambiente `MountainCarContinuous-v0` (e.g., `env.spec`).\n",
    "5. Note que durante a simulação o `Episode Length` se manteve constante ao longo dos episódios. O que isso significa do ponto de vista da tarefa de RL?"
   ]
  }
 ],
 "metadata": {
  "kernelspec": {
   "display_name": "Python 3",
   "language": "python",
   "name": "python3"
  },
  "language_info": {
   "codemirror_mode": {
    "name": "ipython",
    "version": 3
   },
   "file_extension": ".py",
   "mimetype": "text/x-python",
   "name": "python",
   "nbconvert_exporter": "python",
   "pygments_lexer": "ipython3",
   "version": "3.6.10"
  }
 },
 "nbformat": 4,
 "nbformat_minor": 4
}
